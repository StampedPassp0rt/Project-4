{
 "cells": [
  {
   "cell_type": "markdown",
   "metadata": {},
   "source": [
    "# Classification with stumbleupon data\n",
    "\n",
    "Project 4 has been changed since scraping was untenable. The project now focuses on the stumbleupon kaggle dataset. For more information on this dataset, [check out the website here](https://www.kaggle.com/c/stumbleupon).\n",
    "\n",
    "---"
   ]
  },
  {
   "cell_type": "markdown",
   "metadata": {},
   "source": [
    "## 1. Load in the dataset\n",
    "\n",
    "This is the only part completed for you.\n",
    "\n",
    "---"
   ]
  },
  {
   "cell_type": "code",
   "execution_count": 1,
   "metadata": {
    "collapsed": true
   },
   "outputs": [],
   "source": [
    "import pandas as pd\n",
    "import numpy as np\n",
    "import matplotlib.pyplot as plt\n",
    "import seaborn as sns\n",
    "\n",
    "sns.set_style('white')\n",
    "\n",
    "%matplotlib inline"
   ]
  },
  {
   "cell_type": "code",
   "execution_count": 2,
   "metadata": {
    "collapsed": false
   },
   "outputs": [],
   "source": [
    "su = pd.read_csv('../dataset/evergreen.tsv', delimiter='\\t')"
   ]
  },
  {
   "cell_type": "markdown",
   "metadata": {},
   "source": [
    "## 2. Clean up/examine your data\n",
    "\n",
    "Some of the columns may have values that need changing or that are of the wrong type. There could also be columns that aren't very useful.\n",
    "\n",
    "---"
   ]
  },
  {
   "cell_type": "code",
   "execution_count": 4,
   "metadata": {
    "collapsed": false
   },
   "outputs": [
    {
     "data": {
      "text/plain": [
       "'Useless columns likely are boilerplate, compression_ratio, frameBased, frameTagRatio, spelling_errors_ratio'"
      ]
     },
     "execution_count": 4,
     "metadata": {},
     "output_type": "execute_result"
    }
   ],
   "source": [
    "#First, let's look at the head, tail, and types.\n",
    "#0 is probably ephemeral, 1 evergreen. So label is the target.\n",
    "su.head()\n",
    "\n",
    "'''Useless columns likely are boilerplate, compression_ratio, frameBased, frameTagRatio, spelling_errors_ratio'''"
   ]
  },
  {
   "cell_type": "code",
   "execution_count": 5,
   "metadata": {
    "collapsed": false
   },
   "outputs": [
    {
     "data": {
      "text/html": [
       "<div>\n",
       "<table border=\"1\" class=\"dataframe\">\n",
       "  <thead>\n",
       "    <tr style=\"text-align: right;\">\n",
       "      <th></th>\n",
       "      <th>url</th>\n",
       "      <th>urlid</th>\n",
       "      <th>boilerplate</th>\n",
       "      <th>alchemy_category</th>\n",
       "      <th>alchemy_category_score</th>\n",
       "      <th>avglinksize</th>\n",
       "      <th>commonlinkratio_1</th>\n",
       "      <th>commonlinkratio_2</th>\n",
       "      <th>commonlinkratio_3</th>\n",
       "      <th>commonlinkratio_4</th>\n",
       "      <th>...</th>\n",
       "      <th>is_news</th>\n",
       "      <th>lengthyLinkDomain</th>\n",
       "      <th>linkwordscore</th>\n",
       "      <th>news_front_page</th>\n",
       "      <th>non_markup_alphanum_characters</th>\n",
       "      <th>numberOfLinks</th>\n",
       "      <th>numwords_in_url</th>\n",
       "      <th>parametrizedLinkRatio</th>\n",
       "      <th>spelling_errors_ratio</th>\n",
       "      <th>label</th>\n",
       "    </tr>\n",
       "  </thead>\n",
       "  <tbody>\n",
       "    <tr>\n",
       "      <th>7390</th>\n",
       "      <td>http://techcrunch.com/2010/09/08/kno-raises-46...</td>\n",
       "      <td>8958</td>\n",
       "      <td>{\"title\":\"Kno Raises 46 Million More To Build ...</td>\n",
       "      <td>computer_internet</td>\n",
       "      <td>0.651067</td>\n",
       "      <td>3.010526</td>\n",
       "      <td>0.474747</td>\n",
       "      <td>0.222222</td>\n",
       "      <td>0.191919</td>\n",
       "      <td>0.191919</td>\n",
       "      <td>...</td>\n",
       "      <td>1</td>\n",
       "      <td>1</td>\n",
       "      <td>38</td>\n",
       "      <td>0</td>\n",
       "      <td>2219</td>\n",
       "      <td>99</td>\n",
       "      <td>11</td>\n",
       "      <td>0.040404</td>\n",
       "      <td>0.071429</td>\n",
       "      <td>0</td>\n",
       "    </tr>\n",
       "    <tr>\n",
       "      <th>7391</th>\n",
       "      <td>http://www.uncoached.com/category/why-i-miss-c...</td>\n",
       "      <td>8895</td>\n",
       "      <td>{\"title\":\"Why I Miss College \",\"body\":\"Mar 30 ...</td>\n",
       "      <td>culture_politics</td>\n",
       "      <td>0.14192</td>\n",
       "      <td>2.208054</td>\n",
       "      <td>0.483333</td>\n",
       "      <td>0.246667</td>\n",
       "      <td>0.036667</td>\n",
       "      <td>0.026667</td>\n",
       "      <td>...</td>\n",
       "      <td>1</td>\n",
       "      <td>1</td>\n",
       "      <td>34</td>\n",
       "      <td>0</td>\n",
       "      <td>5672</td>\n",
       "      <td>300</td>\n",
       "      <td>4</td>\n",
       "      <td>0.020000</td>\n",
       "      <td>0.109453</td>\n",
       "      <td>0</td>\n",
       "    </tr>\n",
       "    <tr>\n",
       "      <th>7392</th>\n",
       "      <td>http://eatthis.menshealth.com/slide/sweet-pota...</td>\n",
       "      <td>1191</td>\n",
       "      <td>{\"title\":\"Sweet Potatoes Eat This Not That  i'...</td>\n",
       "      <td>recreation</td>\n",
       "      <td>0.196273</td>\n",
       "      <td>2.000000</td>\n",
       "      <td>0.315789</td>\n",
       "      <td>0.171053</td>\n",
       "      <td>0.105263</td>\n",
       "      <td>0.052632</td>\n",
       "      <td>...</td>\n",
       "      <td>?</td>\n",
       "      <td>1</td>\n",
       "      <td>43</td>\n",
       "      <td>0</td>\n",
       "      <td>848</td>\n",
       "      <td>76</td>\n",
       "      <td>5</td>\n",
       "      <td>0.434211</td>\n",
       "      <td>0.117647</td>\n",
       "      <td>1</td>\n",
       "    </tr>\n",
       "    <tr>\n",
       "      <th>7393</th>\n",
       "      <td>http://naturallyella.com/</td>\n",
       "      <td>5612</td>\n",
       "      <td>{\"title\":\"Naturally Ella \",\"body\":\" \",\"url\":\"n...</td>\n",
       "      <td>arts_entertainment</td>\n",
       "      <td>0.617876</td>\n",
       "      <td>1.026316</td>\n",
       "      <td>0.210526</td>\n",
       "      <td>0.052632</td>\n",
       "      <td>0.000000</td>\n",
       "      <td>0.000000</td>\n",
       "      <td>...</td>\n",
       "      <td>1</td>\n",
       "      <td>0</td>\n",
       "      <td>37</td>\n",
       "      <td>1</td>\n",
       "      <td>386</td>\n",
       "      <td>38</td>\n",
       "      <td>0</td>\n",
       "      <td>0.026316</td>\n",
       "      <td>0.333333</td>\n",
       "      <td>1</td>\n",
       "    </tr>\n",
       "    <tr>\n",
       "      <th>7394</th>\n",
       "      <td>http://sportsillustrated.cnn.com/2011_swimsuit...</td>\n",
       "      <td>90</td>\n",
       "      <td>{\"title\":\"Esti Ginzburg Swimsuit by Letarte by...</td>\n",
       "      <td>?</td>\n",
       "      <td>?</td>\n",
       "      <td>1.158209</td>\n",
       "      <td>0.505917</td>\n",
       "      <td>0.428994</td>\n",
       "      <td>0.023669</td>\n",
       "      <td>0.000000</td>\n",
       "      <td>...</td>\n",
       "      <td>?</td>\n",
       "      <td>0</td>\n",
       "      <td>78</td>\n",
       "      <td>?</td>\n",
       "      <td>515</td>\n",
       "      <td>338</td>\n",
       "      <td>4</td>\n",
       "      <td>0.005917</td>\n",
       "      <td>0.134146</td>\n",
       "      <td>0</td>\n",
       "    </tr>\n",
       "  </tbody>\n",
       "</table>\n",
       "<p>5 rows × 27 columns</p>\n",
       "</div>"
      ],
      "text/plain": [
       "                                                    url  urlid  \\\n",
       "7390  http://techcrunch.com/2010/09/08/kno-raises-46...   8958   \n",
       "7391  http://www.uncoached.com/category/why-i-miss-c...   8895   \n",
       "7392  http://eatthis.menshealth.com/slide/sweet-pota...   1191   \n",
       "7393                          http://naturallyella.com/   5612   \n",
       "7394  http://sportsillustrated.cnn.com/2011_swimsuit...     90   \n",
       "\n",
       "                                            boilerplate    alchemy_category  \\\n",
       "7390  {\"title\":\"Kno Raises 46 Million More To Build ...   computer_internet   \n",
       "7391  {\"title\":\"Why I Miss College \",\"body\":\"Mar 30 ...    culture_politics   \n",
       "7392  {\"title\":\"Sweet Potatoes Eat This Not That  i'...          recreation   \n",
       "7393  {\"title\":\"Naturally Ella \",\"body\":\" \",\"url\":\"n...  arts_entertainment   \n",
       "7394  {\"title\":\"Esti Ginzburg Swimsuit by Letarte by...                   ?   \n",
       "\n",
       "     alchemy_category_score  avglinksize  commonlinkratio_1  \\\n",
       "7390               0.651067     3.010526           0.474747   \n",
       "7391                0.14192     2.208054           0.483333   \n",
       "7392               0.196273     2.000000           0.315789   \n",
       "7393               0.617876     1.026316           0.210526   \n",
       "7394                      ?     1.158209           0.505917   \n",
       "\n",
       "      commonlinkratio_2  commonlinkratio_3  commonlinkratio_4  ...    is_news  \\\n",
       "7390           0.222222           0.191919           0.191919  ...          1   \n",
       "7391           0.246667           0.036667           0.026667  ...          1   \n",
       "7392           0.171053           0.105263           0.052632  ...          ?   \n",
       "7393           0.052632           0.000000           0.000000  ...          1   \n",
       "7394           0.428994           0.023669           0.000000  ...          ?   \n",
       "\n",
       "      lengthyLinkDomain  linkwordscore  news_front_page  \\\n",
       "7390                  1             38                0   \n",
       "7391                  1             34                0   \n",
       "7392                  1             43                0   \n",
       "7393                  0             37                1   \n",
       "7394                  0             78                ?   \n",
       "\n",
       "      non_markup_alphanum_characters  numberOfLinks  numwords_in_url  \\\n",
       "7390                            2219             99               11   \n",
       "7391                            5672            300                4   \n",
       "7392                             848             76                5   \n",
       "7393                             386             38                0   \n",
       "7394                             515            338                4   \n",
       "\n",
       "     parametrizedLinkRatio  spelling_errors_ratio  label  \n",
       "7390              0.040404               0.071429      0  \n",
       "7391              0.020000               0.109453      0  \n",
       "7392              0.434211               0.117647      1  \n",
       "7393              0.026316               0.333333      1  \n",
       "7394              0.005917               0.134146      0  \n",
       "\n",
       "[5 rows x 27 columns]"
      ]
     },
     "execution_count": 5,
     "metadata": {},
     "output_type": "execute_result"
    }
   ],
   "source": [
    "su.tail()"
   ]
  },
  {
   "cell_type": "code",
   "execution_count": 29,
   "metadata": {
    "collapsed": false
   },
   "outputs": [
    {
     "data": {
      "text/plain": [
       "url                                object\n",
       "urlid                               int64\n",
       "boilerplate                        object\n",
       "alchemy_category                   object\n",
       "alchemy_category_score             object\n",
       "avglinksize                       float64\n",
       "commonlinkratio_1                 float64\n",
       "commonlinkratio_2                 float64\n",
       "commonlinkratio_3                 float64\n",
       "commonlinkratio_4                 float64\n",
       "compression_ratio                 float64\n",
       "embed_ratio                       float64\n",
       "framebased                          int64\n",
       "frameTagRatio                     float64\n",
       "hasDomainLink                       int64\n",
       "html_ratio                        float64\n",
       "image_ratio                       float64\n",
       "is_news                            object\n",
       "lengthyLinkDomain                   int64\n",
       "linkwordscore                       int64\n",
       "news_front_page                    object\n",
       "non_markup_alphanum_characters      int64\n",
       "numberOfLinks                       int64\n",
       "numwords_in_url                     int64\n",
       "parametrizedLinkRatio             float64\n",
       "spelling_errors_ratio             float64\n",
       "label                               int64\n",
       "dtype: object"
      ]
     },
     "execution_count": 29,
     "metadata": {},
     "output_type": "execute_result"
    }
   ],
   "source": [
    "su.dtypes"
   ]
  },
  {
   "cell_type": "code",
   "execution_count": 3,
   "metadata": {
    "collapsed": true
   },
   "outputs": [],
   "source": [
    "#dropping some columns\n",
    "su.drop(['boilerplate', 'url'], axis = 1, inplace = True )"
   ]
  },
  {
   "cell_type": "code",
   "execution_count": 31,
   "metadata": {
    "collapsed": false
   },
   "outputs": [
    {
     "data": {
      "text/plain": [
       "urlid                               int64\n",
       "alchemy_category                   object\n",
       "alchemy_category_score             object\n",
       "avglinksize                       float64\n",
       "commonlinkratio_1                 float64\n",
       "commonlinkratio_2                 float64\n",
       "commonlinkratio_3                 float64\n",
       "commonlinkratio_4                 float64\n",
       "compression_ratio                 float64\n",
       "embed_ratio                       float64\n",
       "framebased                          int64\n",
       "frameTagRatio                     float64\n",
       "hasDomainLink                       int64\n",
       "html_ratio                        float64\n",
       "image_ratio                       float64\n",
       "is_news                            object\n",
       "lengthyLinkDomain                   int64\n",
       "linkwordscore                       int64\n",
       "news_front_page                    object\n",
       "non_markup_alphanum_characters      int64\n",
       "numberOfLinks                       int64\n",
       "numwords_in_url                     int64\n",
       "parametrizedLinkRatio             float64\n",
       "spelling_errors_ratio             float64\n",
       "label                               int64\n",
       "dtype: object"
      ]
     },
     "execution_count": 31,
     "metadata": {},
     "output_type": "execute_result"
    }
   ],
   "source": [
    "#checking results.\n",
    "su.dtypes"
   ]
  },
  {
   "cell_type": "code",
   "execution_count": 32,
   "metadata": {
    "collapsed": false
   },
   "outputs": [
    {
     "name": "stdout",
     "output_type": "stream",
     "text": [
      "<class 'pandas.core.frame.DataFrame'>\n",
      "RangeIndex: 7395 entries, 0 to 7394\n",
      "Data columns (total 25 columns):\n",
      "urlid                             7395 non-null int64\n",
      "alchemy_category                  7395 non-null object\n",
      "alchemy_category_score            7395 non-null object\n",
      "avglinksize                       7395 non-null float64\n",
      "commonlinkratio_1                 7395 non-null float64\n",
      "commonlinkratio_2                 7395 non-null float64\n",
      "commonlinkratio_3                 7395 non-null float64\n",
      "commonlinkratio_4                 7395 non-null float64\n",
      "compression_ratio                 7395 non-null float64\n",
      "embed_ratio                       7395 non-null float64\n",
      "framebased                        7395 non-null int64\n",
      "frameTagRatio                     7395 non-null float64\n",
      "hasDomainLink                     7395 non-null int64\n",
      "html_ratio                        7395 non-null float64\n",
      "image_ratio                       7395 non-null float64\n",
      "is_news                           7395 non-null object\n",
      "lengthyLinkDomain                 7395 non-null int64\n",
      "linkwordscore                     7395 non-null int64\n",
      "news_front_page                   7395 non-null object\n",
      "non_markup_alphanum_characters    7395 non-null int64\n",
      "numberOfLinks                     7395 non-null int64\n",
      "numwords_in_url                   7395 non-null int64\n",
      "parametrizedLinkRatio             7395 non-null float64\n",
      "spelling_errors_ratio             7395 non-null float64\n",
      "label                             7395 non-null int64\n",
      "dtypes: float64(12), int64(9), object(4)\n",
      "memory usage: 1.4+ MB\n"
     ]
    }
   ],
   "source": [
    "#Any nulls? no?\n",
    "su.info()"
   ]
  },
  {
   "cell_type": "code",
   "execution_count": 4,
   "metadata": {
    "collapsed": false
   },
   "outputs": [],
   "source": [
    "#Any cleaning?\n",
    "su.alchemy_category_score.value_counts() #2342 ?s...\n",
    "\n",
    "su.alchemy_category_score = pd.to_numeric(su.alchemy_category_score, errors = 'coerce')\n",
    "su.alchemy_category_score.isnull().value_counts()\n",
    "su = su.dropna(axis = 0)"
   ]
  },
  {
   "cell_type": "code",
   "execution_count": 45,
   "metadata": {
    "collapsed": false
   },
   "outputs": [
    {
     "name": "stdout",
     "output_type": "stream",
     "text": [
      "<class 'pandas.core.frame.DataFrame'>\n",
      "Int64Index: 5053 entries, 0 to 7393\n",
      "Data columns (total 25 columns):\n",
      "urlid                             5053 non-null int64\n",
      "alchemy_category                  5053 non-null object\n",
      "alchemy_category_score            5053 non-null float64\n",
      "avglinksize                       5053 non-null float64\n",
      "commonlinkratio_1                 5053 non-null float64\n",
      "commonlinkratio_2                 5053 non-null float64\n",
      "commonlinkratio_3                 5053 non-null float64\n",
      "commonlinkratio_4                 5053 non-null float64\n",
      "compression_ratio                 5053 non-null float64\n",
      "embed_ratio                       5053 non-null float64\n",
      "framebased                        5053 non-null int64\n",
      "frameTagRatio                     5053 non-null float64\n",
      "hasDomainLink                     5053 non-null int64\n",
      "html_ratio                        5053 non-null float64\n",
      "image_ratio                       5053 non-null float64\n",
      "is_news                           5053 non-null object\n",
      "lengthyLinkDomain                 5053 non-null int64\n",
      "linkwordscore                     5053 non-null int64\n",
      "news_front_page                   5053 non-null object\n",
      "non_markup_alphanum_characters    5053 non-null int64\n",
      "numberOfLinks                     5053 non-null int64\n",
      "numwords_in_url                   5053 non-null int64\n",
      "parametrizedLinkRatio             5053 non-null float64\n",
      "spelling_errors_ratio             5053 non-null float64\n",
      "label                             5053 non-null int64\n",
      "dtypes: float64(13), int64(9), object(3)\n",
      "memory usage: 1.0+ MB\n"
     ]
    }
   ],
   "source": [
    "su.info()"
   ]
  },
  {
   "cell_type": "code",
   "execution_count": 6,
   "metadata": {
    "collapsed": false
   },
   "outputs": [
    {
     "name": "stdout",
     "output_type": "stream",
     "text": [
      "0.0    4823\n",
      "1.0     230\n",
      "Name: news_front_page, dtype: int64\n"
     ]
    }
   ],
   "source": [
    "#checking my other categorical variables for ?s...\n",
    "print su.news_front_page.value_counts() #229 ?s. Likely not front page... Likely not even news. So 0.\n",
    "su.news_front_page = pd.to_numeric(su.news_front_page, errors = 'coerce')\n",
    "su.news_front_page.fillna(0, inplace = True)"
   ]
  },
  {
   "cell_type": "code",
   "execution_count": 7,
   "metadata": {
    "collapsed": false
   },
   "outputs": [
    {
     "data": {
      "text/plain": [
       "0.0    4823\n",
       "1.0     230\n",
       "Name: news_front_page, dtype: int64"
      ]
     },
     "execution_count": 7,
     "metadata": {},
     "output_type": "execute_result"
    }
   ],
   "source": [
    "#Confirming that nulls are now zero for news front page...\n",
    "su.news_front_page.value_counts()"
   ]
  },
  {
   "cell_type": "code",
   "execution_count": 8,
   "metadata": {
    "collapsed": false
   },
   "outputs": [
    {
     "name": "stdout",
     "output_type": "stream",
     "text": [
      "1    3566\n",
      "?    1487\n",
      "Name: is_news, dtype: int64\n",
      "False    3566\n",
      "True     1487\n",
      "Name: is_news, dtype: int64\n",
      "False    5053\n",
      "Name: is_news, dtype: int64\n",
      "1.0    3566\n",
      "0.0    1487\n",
      "Name: is_news, dtype: int64\n"
     ]
    }
   ],
   "source": [
    "#Checking is_news. ?s are probably zero...\n",
    "print su.is_news.value_counts()\n",
    "su.is_news = pd.to_numeric(su.is_news, errors = coerce)\n",
    "print su.is_news.isnull().value_counts()\n",
    "su.is_news.fillna(0, inplace = True)\n",
    "print su.is_news.isnull().value_counts()\n",
    "print su.is_news.value_counts() #cleaned.."
   ]
  },
  {
   "cell_type": "code",
   "execution_count": 9,
   "metadata": {
    "collapsed": false
   },
   "outputs": [
    {
     "data": {
      "text/plain": [
       "(5053, 25)"
      ]
     },
     "execution_count": 9,
     "metadata": {},
     "output_type": "execute_result"
    }
   ],
   "source": [
    "su.alchemy_category.value_counts()\n",
    "\n",
    "#Looks like this one is fine. Unknown at six is probably acceptable.\n",
    "\n",
    "su.shape"
   ]
  },
  {
   "cell_type": "markdown",
   "metadata": {},
   "source": [
    "## 3. Use statsmodels' logistic regression function to look at variable significance\n",
    "\n",
    "The **`import statsmodels.formula.api as smf`** code below gives us access to a statsmodels api that can run logistic regressions using patsy-style formulas.\n",
    "\n",
    "Ex:\n",
    "\n",
    "```python\n",
    "formula = 'target ~ var1 + var2 + C(var3) -1'\n",
    "logreg = smf.logit(formula, data=data)\n",
    "logreg_results = logreg.fit()\n",
    "print logreg_results.summary()\n",
    "```\n",
    "\n",
    "---"
   ]
  },
  {
   "cell_type": "markdown",
   "metadata": {},
   "source": [
    "### 3.1 Run a logistic regression predicting evergreen from the numeric columns\n",
    "\n",
    "And print out the results as shown in the example above.\n",
    "\n",
    "---"
   ]
  },
  {
   "cell_type": "code",
   "execution_count": 72,
   "metadata": {
    "collapsed": false
   },
   "outputs": [
    {
     "name": "stdout",
     "output_type": "stream",
     "text": [
      "Optimization terminated successfully.\n",
      "         Current function value: 0.656420\n",
      "         Iterations 5\n",
      "                           Logit Regression Results                           \n",
      "==============================================================================\n",
      "Dep. Variable:                  label   No. Observations:                 5053\n",
      "Model:                          Logit   Df Residuals:                     5039\n",
      "Method:                           MLE   Df Model:                           13\n",
      "Date:                Wed, 18 May 2016   Pseudo R-squ.:                 0.05205\n",
      "Time:                        16:55:38   Log-Likelihood:                -3316.9\n",
      "converged:                       True   LL-Null:                       -3499.0\n",
      "                                        LLR p-value:                 7.809e-70\n",
      "==================================================================================================\n",
      "                                     coef    std err          z      P>|z|      [95.0% Conf. Int.]\n",
      "--------------------------------------------------------------------------------------------------\n",
      "avglinksize                        0.0027      0.003      0.881      0.378        -0.003     0.009\n",
      "embed_ratio                       -0.1592      0.133     -1.198      0.231        -0.420     0.101\n",
      "html_ratio                         2.5003      0.389      6.429      0.000         1.738     3.262\n",
      "image_ratio                       -0.0005      0.016     -0.029      0.977        -0.031     0.030\n",
      "lengthyLinkDomain                  0.0055      0.075      0.073      0.942        -0.141     0.152\n",
      "hasDomainLink                      0.0627      0.211      0.298      0.766        -0.350     0.475\n",
      "frameTagRatio                     -7.0622      0.948     -7.452      0.000        -8.920    -5.205\n",
      "linkwordscore                     -0.0223      0.002    -10.624      0.000        -0.026    -0.018\n",
      "non_markup_alphanum_characters -2.268e-05   5.81e-06     -3.901      0.000     -3.41e-05 -1.13e-05\n",
      "numberOfLinks                      0.0014      0.000      5.235      0.000         0.001     0.002\n",
      "numwords_in_url                   -0.0247      0.009     -2.670      0.008        -0.043    -0.007\n",
      "commonlinkratio_1                  0.7769      0.202      3.844      0.000         0.381     1.173\n",
      "commonlinkratio_3                  2.5859      0.750      3.450      0.001         1.117     4.055\n",
      "commonlinkratio_4                 -1.7420      0.873     -1.996      0.046        -3.452    -0.032\n",
      "==================================================================================================\n"
     ]
    }
   ],
   "source": [
    "import statsmodels.formula.api as smf\n",
    "formula = 'label ~ avglinksize + embed_ratio + html_ratio + image_ratio + lengthyLinkDomain + hasDomainLink + frameTagRatio + linkwordscore + non_markup_alphanum_characters + numberOfLinks + numwords_in_url + commonlinkratio_1 + commonlinkratio_3 + commonlinkratio_4 - 1'\n",
    "logreg = smf.logit(formula, data = su)\n",
    "logreg_results = logreg.fit()\n",
    "print logreg_results.summary()"
   ]
  },
  {
   "cell_type": "markdown",
   "metadata": {},
   "source": [
    "### 3.2 Run a logistic regression predicting evergreen from the numeric columns and a categorical variable of alchemy_category\n",
    "\n",
    "And print out the results as shown in the example.\n",
    "\n",
    "---"
   ]
  },
  {
   "cell_type": "code",
   "execution_count": 76,
   "metadata": {
    "collapsed": false
   },
   "outputs": [
    {
     "name": "stdout",
     "output_type": "stream",
     "text": [
      "Warning: Maximum number of iterations has been exceeded.\n",
      "         Current function value: 0.598566\n",
      "         Iterations: 35\n",
      "                           Logit Regression Results                           \n",
      "==============================================================================\n",
      "Dep. Variable:                  label   No. Observations:                 5053\n",
      "Model:                          Logit   Df Residuals:                     5025\n",
      "Method:                           MLE   Df Model:                           27\n",
      "Date:                Wed, 18 May 2016   Pseudo R-squ.:                  0.1356\n",
      "Time:                        16:59:42   Log-Likelihood:                -3024.6\n",
      "converged:                      False   LL-Null:                       -3499.0\n",
      "                                        LLR p-value:                1.502e-182\n",
      "===========================================================================================================\n",
      "                                              coef    std err          z      P>|z|      [95.0% Conf. Int.]\n",
      "-----------------------------------------------------------------------------------------------------------\n",
      "C(alchemy_category)[arts_entertainment]     0.2086      0.231      0.901      0.368        -0.245     0.662\n",
      "C(alchemy_category)[business]               1.6300      0.236      6.915      0.000         1.168     2.092\n",
      "C(alchemy_category)[computer_internet]     -0.2851      0.267     -1.068      0.286        -0.809     0.238\n",
      "C(alchemy_category)[culture_politics]       0.5850      0.251      2.335      0.020         0.094     1.076\n",
      "C(alchemy_category)[gaming]                 0.2919      0.328      0.891      0.373        -0.350     0.934\n",
      "C(alchemy_category)[health]                 1.0200      0.251      4.057      0.000         0.527     1.513\n",
      "C(alchemy_category)[law_crime]              0.7364      0.451      1.631      0.103        -0.148     1.621\n",
      "C(alchemy_category)[recreation]             1.5428      0.231      6.680      0.000         1.090     1.995\n",
      "C(alchemy_category)[religion]               0.6403      0.337      1.898      0.058        -0.021     1.301\n",
      "C(alchemy_category)[science_technology]     0.5928      0.265      2.239      0.025         0.074     1.112\n",
      "C(alchemy_category)[sports]                -0.5495      0.262     -2.100      0.036        -1.062    -0.037\n",
      "C(alchemy_category)[unknown]                0.8971      0.959      0.935      0.350        -0.983     2.777\n",
      "C(alchemy_category)[weather]              -22.0909   5.92e+04     -0.000      1.000     -1.16e+05  1.16e+05\n",
      "C(is_news)[T.1.0]                           0.1236      0.071      1.749      0.080        -0.015     0.262\n",
      "C(lengthyLinkDomain)[T.1]                   0.0432      0.080      0.540      0.589        -0.114     0.200\n",
      "C(hasDomainLink)[T.1]                      -0.1223      0.218     -0.561      0.575        -0.550     0.305\n",
      "avglinksize                                 0.0042      0.003      1.259      0.208        -0.002     0.011\n",
      "embed_ratio                                -0.1272      0.140     -0.912      0.362        -0.401     0.146\n",
      "html_ratio                                 -0.1143      0.748     -0.153      0.878        -1.579     1.351\n",
      "image_ratio                                -0.0073      0.016     -0.449      0.654        -0.039     0.024\n",
      "frameTagRatio                              -7.4559      1.015     -7.344      0.000        -9.446    -5.466\n",
      "linkwordscore                              -0.0214      0.002     -9.561      0.000        -0.026    -0.017\n",
      "non_markup_alphanum_characters          -1.448e-05   6.09e-06     -2.377      0.017     -2.64e-05 -2.54e-06\n",
      "numberOfLinks                               0.0006      0.000      2.015      0.044      1.64e-05     0.001\n",
      "numwords_in_url                            -0.0267      0.010     -2.678      0.007        -0.046    -0.007\n",
      "commonlinkratio_1                           0.3208      0.222      1.445      0.149        -0.114     0.756\n",
      "commonlinkratio_3                           2.6222      0.779      3.365      0.001         1.095     4.150\n",
      "commonlinkratio_4                          -1.7881      0.913     -1.959      0.050        -3.577     0.001\n",
      "===========================================================================================================\n"
     ]
    },
    {
     "name": "stderr",
     "output_type": "stream",
     "text": [
      "//anaconda/lib/python2.7/site-packages/statsmodels/base/model.py:466: ConvergenceWarning: Maximum Likelihood optimization failed to converge. Check mle_retvals\n",
      "  \"Check mle_retvals\", ConvergenceWarning)\n"
     ]
    }
   ],
   "source": [
    "import statsmodels.formula.api as smf\n",
    "formula = 'label ~ C(alchemy_category) + C(is_news) + avglinksize + embed_ratio + html_ratio + image_ratio + C(lengthyLinkDomain) + C(hasDomainLink) + frameTagRatio + linkwordscore + non_markup_alphanum_characters + numberOfLinks + numwords_in_url + commonlinkratio_1 + commonlinkratio_3 + commonlinkratio_4 - 1'\n",
    "logreg = smf.logit(formula, data = su)\n",
    "logreg_results = logreg.fit()\n",
    "print logreg_results.summary()"
   ]
  },
  {
   "cell_type": "markdown",
   "metadata": {},
   "source": [
    "### Pivoting to sklearn\n",
    "\n",
    "Okay, this is not doing well in statsmodels...\n",
    "\n",
    "__Switching to sklearn and following the below process__\n",
    "\n",
    "    1) Scale the numeric values.\n",
    "    2) Split into train/test\n",
    "    3) Look up how to do n-folds cross validation for Logistic, do this on the training set.\n",
    "    4) Predict the test set.\n",
    "    5) Get the scores for the training set and see the accuracy score for the test set.\n",
    "\n",
    "\n"
   ]
  },
  {
   "cell_type": "code",
   "execution_count": 10,
   "metadata": {
    "collapsed": false
   },
   "outputs": [
    {
     "data": {
      "text/plain": [
       "<matplotlib.axes._subplots.AxesSubplot at 0x119390050>"
      ]
     },
     "execution_count": 10,
     "metadata": {},
     "output_type": "execute_result"
    },
    {
     "data": {
      "image/png": "[encoded data removed]",
      "text/plain": [
       "<matplotlib.figure.Figure at 0x1130e3b90>"
      ]
     },
     "metadata": {},
     "output_type": "display_data"
    }
   ],
   "source": [
    "su.alchemy_category_score.plot(kind = 'hist')\n"
   ]
  },
  {
   "cell_type": "code",
   "execution_count": 81,
   "metadata": {
    "collapsed": false
   },
   "outputs": [
    {
     "data": {
      "text/plain": [
       "Index([u'urlid', u'alchemy_category', u'alchemy_category_score',\n",
       "       u'avglinksize', u'commonlinkratio_1', u'commonlinkratio_2',\n",
       "       u'commonlinkratio_3', u'commonlinkratio_4', u'compression_ratio',\n",
       "       u'embed_ratio', u'framebased', u'frameTagRatio', u'hasDomainLink',\n",
       "       u'html_ratio', u'image_ratio', u'is_news', u'lengthyLinkDomain',\n",
       "       u'linkwordscore', u'news_front_page', u'non_markup_alphanum_characters',\n",
       "       u'numberOfLinks', u'numwords_in_url', u'parametrizedLinkRatio',\n",
       "       u'spelling_errors_ratio', u'label'],\n",
       "      dtype='object')"
      ]
     },
     "execution_count": 81,
     "metadata": {},
     "output_type": "execute_result"
    }
   ],
   "source": [
    "su.columns"
   ]
  },
  {
   "cell_type": "code",
   "execution_count": 11,
   "metadata": {
    "collapsed": false
   },
   "outputs": [
    {
     "data": {
      "image/png": "[encoded data removed]",
      "text/plain": [
       "<matplotlib.figure.Figure at 0x113170fd0>"
      ]
     },
     "metadata": {},
     "output_type": "display_data"
    },
    {
     "data": {
      "image/png": "[encoded data removed]",
      "text/plain": [
       "<matplotlib.figure.Figure at 0x118c28d90>"
      ]
     },
     "metadata": {},
     "output_type": "display_data"
    },
    {
     "data": {
      "image/png": "[encoded data removed]",
      "text/plain": [
       "<matplotlib.figure.Figure at 0x118d60a90>"
      ]
     },
     "metadata": {},
     "output_type": "display_data"
    },
    {
     "data": {
      "image/png": "[encoded data removed]",
      "text/plain": [
       "<matplotlib.figure.Figure at 0x119721b10>"
      ]
     },
     "metadata": {},
     "output_type": "display_data"
    },
    {
     "data": {
      "image/png": "[encoded data removed]",
      "text/plain": [
       "<matplotlib.figure.Figure at 0x11a941f50>"
      ]
     },
     "metadata": {},
     "output_type": "display_data"
    },
    {
     "data": {
      "image/png": "[encoded data removed]",
      "text/plain": [
       "<matplotlib.figure.Figure at 0x11ac47810>"
      ]
     },
     "metadata": {},
     "output_type": "display_data"
    },
    {
     "data": {
      "image/png": "[encoded data removed]",
      "text/plain": [
       "<matplotlib.figure.Figure at 0x11ae42790>"
      ]
     },
     "metadata": {},
     "output_type": "display_data"
    },
    {
     "data": {
      "image/png": "[encoded data removed]",
      "text/plain": [
       "<matplotlib.figure.Figure at 0x11afa2090>"
      ]
     },
     "metadata": {},
     "output_type": "display_data"
    },
    {
     "data": {
      "image/png": "[encoded data removed]",
      "text/plain": [
       "<matplotlib.figure.Figure at 0x11b44ad50>"
      ]
     },
     "metadata": {},
     "output_type": "display_data"
    },
    {
     "data": {
      "image/png": "[encoded data removed]",
      "text/plain": [
       "<matplotlib.figure.Figure at 0x11b612850>"
      ]
     },
     "metadata": {},
     "output_type": "display_data"
    },
    {
     "data": {
      "image/png": "[encoded data removed]",
      "text/plain": [
       "<matplotlib.figure.Figure at 0x11b7a6810>"
      ]
     },
     "metadata": {},
     "output_type": "display_data"
    },
    {
     "data": {
      "image/png": "[encoded data removed]",
      "text/plain": [
       "<matplotlib.figure.Figure at 0x11bc29dd0>"
      ]
     },
     "metadata": {},
     "output_type": "display_data"
    },
    {
     "data": {
      "image/png": "[encoded data removed]",
      "text/plain": [
       "<matplotlib.figure.Figure at 0x11bdfeb90>"
      ]
     },
     "metadata": {},
     "output_type": "display_data"
    },
    {
     "data": {
      "image/png": "[encoded data removed]",
      "text/plain": [
       "<matplotlib.figure.Figure at 0x11c135790>"
      ]
     },
     "metadata": {},
     "output_type": "display_data"
    },
    {
     "data": {
      "image/png": "[encoded data removed]",
      "text/plain": [
       "<matplotlib.figure.Figure at 0x11c2d8d50>"
      ]
     },
     "metadata": {},
     "output_type": "display_data"
    },
    {
     "data": {
      "image/png": "[encoded data removed]",
      "text/plain": [
       "<matplotlib.figure.Figure at 0x11c5e7450>"
      ]
     },
     "metadata": {},
     "output_type": "display_data"
    },
    {
     "data": {
      "image/png": "[encoded data removed]",
      "text/plain": [
       "<matplotlib.figure.Figure at 0x11c7e3a50>"
      ]
     },
     "metadata": {},
     "output_type": "display_data"
    },
    {
     "data": {
      "image/png": "[encoded data removed]",
      "text/plain": [
       "<matplotlib.figure.Figure at 0x11cc10d10>"
      ]
     },
     "metadata": {},
     "output_type": "display_data"
    },
    {
     "data": {
      "image/png": "[encoded data removed]",
      "text/plain": [
       "<matplotlib.figure.Figure at 0x11cea1710>"
      ]
     },
     "metadata": {},
     "output_type": "display_data"
    },
    {
     "data": {
      "image/png": "[encoded data removed]",
      "text/plain": [
       "<matplotlib.figure.Figure at 0x11d935990>"
      ]
     },
     "metadata": {},
     "output_type": "display_data"
    }
   ],
   "source": [
    "def do_plot_hist(feat):\n",
    "    plt.figure(figsize = (10,5))\n",
    "    plt.subplot(121)\n",
    "    su[feat].plot(kind='hist', alpha = 0.3, normed = True)\n",
    "    plt.xlabel(feat.capitalize())\n",
    "    plt.title(feat.capitalize() + ' Distribution, whole set')\n",
    "\n",
    "    plt.subplot(122)\n",
    "    su[su.label == 0][feat].plot(kind='hist', alpha = 0.3, normed = True)\n",
    "    su[su.label == 1][feat].plot(kind='hist', alpha = 0.3, normed = True)\n",
    "    plt.legend(['Emphemeral', 'Evergreen'])\n",
    "    plt.xlabel(feat.capitalize())\n",
    "    plt.title(feat.capitalize() + ' Distribution, per target')\n",
    "\n",
    "for c in [u'alchemy_category_score',\n",
    "       u'avglinksize', u'commonlinkratio_1', u'commonlinkratio_2',\n",
    "       u'commonlinkratio_3', u'commonlinkratio_4', u'compression_ratio',\n",
    "       u'embed_ratio', u'framebased', u'frameTagRatio', u'hasDomainLink',\n",
    "       u'html_ratio', u'image_ratio', u'lengthyLinkDomain',\n",
    "       u'linkwordscore', u'non_markup_alphanum_characters',\n",
    "       u'numberOfLinks', u'numwords_in_url', u'parametrizedLinkRatio',\n",
    "       u'spelling_errors_ratio']:\n",
    "    do_plot_hist(c)"
   ]
  },
  {
   "cell_type": "markdown",
   "metadata": {},
   "source": [
    "Looking at the above, I am seeing how based on the scale of certain variables like Numberoflinks, it could be worthwhile to scale..."
   ]
  },
  {
   "cell_type": "code",
   "execution_count": 12,
   "metadata": {
    "collapsed": false
   },
   "outputs": [
    {
     "name": "stdout",
     "output_type": "stream",
     "text": [
      "(5053, 18)\n",
      "(5053, 25)\n"
     ]
    }
   ],
   "source": [
    "categorical = ['hasDomainLink', 'is_news', 'news_front_page']\n",
    "\n",
    "#Note, alchemy category is categorical. The others are binary variables.\n",
    "\n",
    "#Don't use framebased - no change at all.\n",
    "\n",
    "#Normalizing my numerical variables\n",
    "#Train test split.\n",
    "numerical_cols = [u'alchemy_category_score',\n",
    "       u'avglinksize', u'commonlinkratio_1', u'commonlinkratio_2',\n",
    "       u'commonlinkratio_3', u'commonlinkratio_4', u'compression_ratio',\n",
    "       u'embed_ratio', u'frameTagRatio',\n",
    "       u'html_ratio', u'image_ratio', u'lengthyLinkDomain',\n",
    "       u'linkwordscore', u'non_markup_alphanum_characters',\n",
    "       u'numberOfLinks', u'numwords_in_url', u'parametrizedLinkRatio',\n",
    "       u'spelling_errors_ratio']\n",
    "X = su[numerical_cols]\n",
    "\n",
    "from sklearn.preprocessing import StandardScaler\n",
    "X_norm = StandardScaler().fit_transform(X)\n",
    "print X_norm.shape #Looks good so far...\n",
    "print su.shape\n"
   ]
  },
  {
   "cell_type": "code",
   "execution_count": 13,
   "metadata": {
    "collapsed": false
   },
   "outputs": [
    {
     "data": {
      "text/html": [
       "<div>\n",
       "<table border=\"1\" class=\"dataframe\">\n",
       "  <thead>\n",
       "    <tr style=\"text-align: right;\">\n",
       "      <th></th>\n",
       "      <th>business</th>\n",
       "      <th>computer_internet</th>\n",
       "      <th>culture_politics</th>\n",
       "      <th>gaming</th>\n",
       "      <th>health</th>\n",
       "      <th>law_crime</th>\n",
       "      <th>recreation</th>\n",
       "      <th>religion</th>\n",
       "      <th>science_technology</th>\n",
       "      <th>sports</th>\n",
       "      <th>unknown</th>\n",
       "      <th>weather</th>\n",
       "      <th>hasDomainLink</th>\n",
       "      <th>is_news</th>\n",
       "      <th>news_front_page</th>\n",
       "    </tr>\n",
       "  </thead>\n",
       "  <tbody>\n",
       "    <tr>\n",
       "      <th>0</th>\n",
       "      <td>1.0</td>\n",
       "      <td>0.0</td>\n",
       "      <td>0.0</td>\n",
       "      <td>0.0</td>\n",
       "      <td>0.0</td>\n",
       "      <td>0.0</td>\n",
       "      <td>0.0</td>\n",
       "      <td>0.0</td>\n",
       "      <td>0.0</td>\n",
       "      <td>0.0</td>\n",
       "      <td>0.0</td>\n",
       "      <td>0.0</td>\n",
       "      <td>0</td>\n",
       "      <td>1.0</td>\n",
       "      <td>0.0</td>\n",
       "    </tr>\n",
       "    <tr>\n",
       "      <th>1</th>\n",
       "      <td>0.0</td>\n",
       "      <td>0.0</td>\n",
       "      <td>0.0</td>\n",
       "      <td>0.0</td>\n",
       "      <td>0.0</td>\n",
       "      <td>0.0</td>\n",
       "      <td>1.0</td>\n",
       "      <td>0.0</td>\n",
       "      <td>0.0</td>\n",
       "      <td>0.0</td>\n",
       "      <td>0.0</td>\n",
       "      <td>0.0</td>\n",
       "      <td>0</td>\n",
       "      <td>1.0</td>\n",
       "      <td>0.0</td>\n",
       "    </tr>\n",
       "    <tr>\n",
       "      <th>2</th>\n",
       "      <td>0.0</td>\n",
       "      <td>0.0</td>\n",
       "      <td>0.0</td>\n",
       "      <td>0.0</td>\n",
       "      <td>1.0</td>\n",
       "      <td>0.0</td>\n",
       "      <td>0.0</td>\n",
       "      <td>0.0</td>\n",
       "      <td>0.0</td>\n",
       "      <td>0.0</td>\n",
       "      <td>0.0</td>\n",
       "      <td>0.0</td>\n",
       "      <td>0</td>\n",
       "      <td>1.0</td>\n",
       "      <td>0.0</td>\n",
       "    </tr>\n",
       "    <tr>\n",
       "      <th>3</th>\n",
       "      <td>0.0</td>\n",
       "      <td>0.0</td>\n",
       "      <td>0.0</td>\n",
       "      <td>0.0</td>\n",
       "      <td>1.0</td>\n",
       "      <td>0.0</td>\n",
       "      <td>0.0</td>\n",
       "      <td>0.0</td>\n",
       "      <td>0.0</td>\n",
       "      <td>0.0</td>\n",
       "      <td>0.0</td>\n",
       "      <td>0.0</td>\n",
       "      <td>0</td>\n",
       "      <td>1.0</td>\n",
       "      <td>0.0</td>\n",
       "    </tr>\n",
       "    <tr>\n",
       "      <th>4</th>\n",
       "      <td>0.0</td>\n",
       "      <td>0.0</td>\n",
       "      <td>0.0</td>\n",
       "      <td>0.0</td>\n",
       "      <td>0.0</td>\n",
       "      <td>0.0</td>\n",
       "      <td>0.0</td>\n",
       "      <td>0.0</td>\n",
       "      <td>0.0</td>\n",
       "      <td>1.0</td>\n",
       "      <td>0.0</td>\n",
       "      <td>0.0</td>\n",
       "      <td>0</td>\n",
       "      <td>1.0</td>\n",
       "      <td>0.0</td>\n",
       "    </tr>\n",
       "  </tbody>\n",
       "</table>\n",
       "</div>"
      ],
      "text/plain": [
       "   business  computer_internet  culture_politics  gaming  health  law_crime  \\\n",
       "0       1.0                0.0               0.0     0.0     0.0        0.0   \n",
       "1       0.0                0.0               0.0     0.0     0.0        0.0   \n",
       "2       0.0                0.0               0.0     0.0     1.0        0.0   \n",
       "3       0.0                0.0               0.0     0.0     1.0        0.0   \n",
       "4       0.0                0.0               0.0     0.0     0.0        0.0   \n",
       "\n",
       "   recreation  religion  science_technology  sports  unknown  weather  \\\n",
       "0         0.0       0.0                 0.0     0.0      0.0      0.0   \n",
       "1         1.0       0.0                 0.0     0.0      0.0      0.0   \n",
       "2         0.0       0.0                 0.0     0.0      0.0      0.0   \n",
       "3         0.0       0.0                 0.0     0.0      0.0      0.0   \n",
       "4         0.0       0.0                 0.0     1.0      0.0      0.0   \n",
       "\n",
       "   hasDomainLink  is_news  news_front_page  \n",
       "0              0      1.0              0.0  \n",
       "1              0      1.0              0.0  \n",
       "2              0      1.0              0.0  \n",
       "3              0      1.0              0.0  \n",
       "4              0      1.0              0.0  "
      ]
     },
     "execution_count": 13,
     "metadata": {},
     "output_type": "execute_result"
    }
   ],
   "source": [
    "#Convert alchemy_category into dummies...\n",
    "dummies = pd.get_dummies(su.alchemy_category, drop_first = True)\n",
    "dummies.shape\n",
    "\n",
    "#Join the categoricals together.\n",
    "\n",
    "cats = dummies.join(su[categorical])\n",
    "cats.shape\n",
    "cats.head()"
   ]
  },
  {
   "cell_type": "code",
   "execution_count": 14,
   "metadata": {
    "collapsed": false
   },
   "outputs": [
    {
     "data": {
      "text/plain": [
       "(5053, 33)"
      ]
     },
     "execution_count": 14,
     "metadata": {},
     "output_type": "execute_result"
    }
   ],
   "source": [
    "#Combining my normalized X and my categorical data.\n",
    "\n",
    "\n",
    "X_norm_df = pd.DataFrame(X_norm, index = cats.index, columns = numerical_cols)\n",
    "X_norm_combined = X_norm_df.join(cats)\n",
    "X_norm_combined.shape"
   ]
  },
  {
   "cell_type": "code",
   "execution_count": 15,
   "metadata": {
    "collapsed": true
   },
   "outputs": [],
   "source": [
    "#Train Test Split\n",
    "y = su.label\n",
    "\n",
    "from sklearn.cross_validation import train_test_split\n",
    "X_train, X_test, y_train, y_test = train_test_split(X_norm_combined,y, test_size = .2, random_state = 31) #why not use my age as a random state."
   ]
  },
  {
   "cell_type": "code",
   "execution_count": 16,
   "metadata": {
    "collapsed": true
   },
   "outputs": [],
   "source": [
    "from sklearn.linear_model import LogisticRegressionCV\n",
    "\n",
    "#Default is L2 penalty. Going to set my library to liblinear\n",
    "logregcv = LogisticRegressionCV(cv = 10, solver = 'liblinear')"
   ]
  },
  {
   "cell_type": "markdown",
   "metadata": {},
   "source": [
    "## Fitting a Logistic Model with Cross Validation, L2 (Ridge), 10 Folds, only on numerical data."
   ]
  },
  {
   "cell_type": "code",
   "execution_count": 17,
   "metadata": {
    "collapsed": false
   },
   "outputs": [
    {
     "name": "stdout",
     "output_type": "stream",
     "text": [
      "The scores from the CV are:\n",
      "[array([[ 0.63950617,  0.6345679 ,  0.63209877,  0.62962963,  0.62469136,\n",
      "         0.62469136,  0.62222222,  0.62222222,  0.62222222,  0.63950617,\n",
      "         0.62469136,  0.63703704,  0.62962963,  0.62222222,  0.62222222,\n",
      "         0.62222222,  0.62222222,  0.62222222,  0.62222222],\n",
      "       [ 0.62716049,  0.62962963,  0.62962963,  0.62469136,  0.61728395,\n",
      "         0.61481481,  0.61481481,  0.61481481,  0.61728395,  0.60740741,\n",
      "         0.61975309,  0.62716049,  0.62716049,  0.61481481,  0.61728395,\n",
      "         0.61728395,  0.61728395,  0.61728395,  0.61728395],\n",
      "       [ 0.62376238,  0.62623762,  0.62376238,  0.62376238,  0.62376238,\n",
      "         0.62871287,  0.62871287,  0.62871287,  0.63118812,  0.5990099 ,\n",
      "         0.61881188,  0.62871287,  0.62376238,  0.62871287,  0.63118812,\n",
      "         0.63118812,  0.63118812,  0.63118812,  0.63118812],\n",
      "       [ 0.59405941,  0.59405941,  0.59653465,  0.59653465,  0.59653465,\n",
      "         0.59653465,  0.59405941,  0.59405941,  0.59405941,  0.5990099 ,\n",
      "         0.60643564,  0.59653465,  0.59653465,  0.59405941,  0.59405941,\n",
      "         0.59405941,  0.59405941,  0.59405941,  0.59405941],\n",
      "       [ 0.66584158,  0.66089109,  0.66336634,  0.66336634,  0.65594059,\n",
      "         0.65594059,  0.65594059,  0.65594059,  0.65594059,  0.63613861,\n",
      "         0.6509901 ,  0.67079208,  0.66336634,  0.65594059,  0.65594059,\n",
      "         0.65841584,  0.65841584,  0.65841584,  0.65841584],\n",
      "       [ 0.61633663,  0.62376238,  0.62623762,  0.62871287,  0.62871287,\n",
      "         0.62871287,  0.62871287,  0.62871287,  0.63118812,  0.57178218,\n",
      "         0.58910891,  0.61881188,  0.63118812,  0.62871287,  0.63118812,\n",
      "         0.63118812,  0.63118812,  0.63118812,  0.63118812],\n",
      "       [ 0.63613861,  0.63861386,  0.63613861,  0.64356436,  0.64356436,\n",
      "         0.64356436,  0.64356436,  0.6460396 ,  0.6460396 ,  0.58663366,\n",
      "         0.62376238,  0.63118812,  0.64356436,  0.64356436,  0.64851485,\n",
      "         0.6509901 ,  0.6509901 ,  0.6509901 ,  0.6509901 ],\n",
      "       [ 0.65841584,  0.67079208,  0.67574257,  0.67574257,  0.67574257,\n",
      "         0.67326733,  0.67326733,  0.67326733,  0.67326733,  0.61633663,\n",
      "         0.63861386,  0.65594059,  0.67574257,  0.67326733,  0.67326733,\n",
      "         0.67326733,  0.67326733,  0.67326733,  0.67326733],\n",
      "       [ 0.61881188,  0.63118812,  0.63366337,  0.63613861,  0.63613861,\n",
      "         0.63613861,  0.63613861,  0.63366337,  0.63366337,  0.62376238,\n",
      "         0.61386139,  0.61633663,  0.63366337,  0.63366337,  0.63366337,\n",
      "         0.63366337,  0.63366337,  0.63366337,  0.63366337],\n",
      "       [ 0.64108911,  0.64108911,  0.63613861,  0.63118812,  0.63613861,\n",
      "         0.63613861,  0.63613861,  0.63366337,  0.63366337,  0.60891089,\n",
      "         0.62128713,  0.64108911,  0.63366337,  0.63366337,  0.63613861,\n",
      "         0.63613861,  0.63613861,  0.63613861,  0.63613861]])]\n",
      "The average of the scores from 10 folds over 10 Cs were: 0.632117132766\n",
      "\n",
      "The C's used were:\n",
      "[  1.00000000e-02   2.00000000e-02   3.00000000e-02   5.00000000e-02\n",
      "   1.00000000e-01   2.00000000e-01   3.00000000e-01   5.00000000e-01\n",
      "   1.00000000e+00   1.00000000e-04   7.74263683e-04   5.99484250e-03\n",
      "   4.64158883e-02   3.59381366e-01   2.78255940e+00   2.15443469e+01\n",
      "   1.66810054e+02   1.29154967e+03   1.00000000e+04]\n",
      "\n",
      "The best C's:\n",
      "[ 0.04641589]\n",
      "\n",
      "The accuracy score of this model on numerical data only is: 0.64490603363\n",
      "The coefficients for our model with L2 regularization for our Logistic Regression are below.\n"
     ]
    },
    {
     "data": {
      "text/html": [
       "<div>\n",
       "<table border=\"1\" class=\"dataframe\">\n",
       "  <thead>\n",
       "    <tr style=\"text-align: right;\">\n",
       "      <th></th>\n",
       "      <th>alchemy_category_score</th>\n",
       "      <th>avglinksize</th>\n",
       "      <th>commonlinkratio_1</th>\n",
       "      <th>commonlinkratio_2</th>\n",
       "      <th>commonlinkratio_3</th>\n",
       "      <th>commonlinkratio_4</th>\n",
       "      <th>compression_ratio</th>\n",
       "      <th>embed_ratio</th>\n",
       "      <th>frameTagRatio</th>\n",
       "      <th>html_ratio</th>\n",
       "      <th>image_ratio</th>\n",
       "      <th>lengthyLinkDomain</th>\n",
       "      <th>linkwordscore</th>\n",
       "      <th>non_markup_alphanum_characters</th>\n",
       "      <th>numberOfLinks</th>\n",
       "      <th>numwords_in_url</th>\n",
       "      <th>parametrizedLinkRatio</th>\n",
       "      <th>spelling_errors_ratio</th>\n",
       "    </tr>\n",
       "  </thead>\n",
       "  <tbody>\n",
       "    <tr>\n",
       "      <th>0</th>\n",
       "      <td>-0.176558</td>\n",
       "      <td>0.02526</td>\n",
       "      <td>0.121655</td>\n",
       "      <td>-0.028927</td>\n",
       "      <td>0.280325</td>\n",
       "      <td>-0.126535</td>\n",
       "      <td>0.022035</td>\n",
       "      <td>-0.087147</td>\n",
       "      <td>-0.336549</td>\n",
       "      <td>0.000011</td>\n",
       "      <td>-0.003868</td>\n",
       "      <td>0.034859</td>\n",
       "      <td>-0.471915</td>\n",
       "      <td>-0.163013</td>\n",
       "      <td>0.115245</td>\n",
       "      <td>-0.10185</td>\n",
       "      <td>-0.031959</td>\n",
       "      <td>-0.211482</td>\n",
       "    </tr>\n",
       "  </tbody>\n",
       "</table>\n",
       "</div>"
      ],
      "text/plain": [
       "   alchemy_category_score  avglinksize  commonlinkratio_1  commonlinkratio_2  \\\n",
       "0               -0.176558      0.02526           0.121655          -0.028927   \n",
       "\n",
       "   commonlinkratio_3  commonlinkratio_4  compression_ratio  embed_ratio  \\\n",
       "0           0.280325          -0.126535           0.022035    -0.087147   \n",
       "\n",
       "   frameTagRatio  html_ratio  image_ratio  lengthyLinkDomain  linkwordscore  \\\n",
       "0      -0.336549    0.000011    -0.003868           0.034859      -0.471915   \n",
       "\n",
       "   non_markup_alphanum_characters  numberOfLinks  numwords_in_url  \\\n",
       "0                       -0.163013       0.115245         -0.10185   \n",
       "\n",
       "   parametrizedLinkRatio  spelling_errors_ratio  \n",
       "0              -0.031959              -0.211482  "
      ]
     },
     "execution_count": 17,
     "metadata": {},
     "output_type": "execute_result"
    }
   ],
   "source": [
    "#Going to first run a Logistic on the numerical only....\n",
    "logregcv_l2_num = LogisticRegressionCV(Cs = [0.01,0.02,0.03,0.05,0.1,0.2,0.3,0.5,1.0, \n",
    "                                      1.00000000e-04, 7.74263683e-04, 5.99484250e-03, 4.64158883e-02, \n",
    "                                      3.59381366e-01, 2.78255940e+00, 2.15443469e+01, 1.66810054e+02,\n",
    "                                      1.29154967e+03, 1.00000000e+04], cv = 10, solver = 'liblinear', random_state = 31)\n",
    "logregcv_l2_num.fit(X_train[numerical_cols],y_train)\n",
    "y_pred_l2_num = logregcv_l2_num.predict(X_test[numerical_cols])\n",
    "\n",
    "#scores from CV\n",
    "print \"The scores from the CV are:\"\n",
    "print logregcv_l2_num.scores_.values()\n",
    "print \"The average of the scores from 10 folds over 10 Cs were:\", np.mean(logregcv_l2_num.scores_.values())\n",
    "print \"\"\n",
    "print \"The C's used were:\"\n",
    "print logregcv_l2_num.Cs_\n",
    "print \"\"\n",
    "print \"The best C's:\"\n",
    "print logregcv_l2_num.C_\n",
    "\n",
    "#accuracy score\n",
    "from sklearn.metrics import accuracy_score\n",
    "print \"\"\n",
    "print \"The accuracy score of this model on numerical data only is:\", accuracy_score(y_test, y_pred_l2_num)\n",
    "\n",
    "coefficients = pd.DataFrame(logregcv_l2_num.coef_, columns = numerical_cols)\n",
    "print \"The coefficients for our model with L2 regularization for our Logistic Regression are below.\"\n",
    "coefficients"
   ]
  },
  {
   "cell_type": "code",
   "execution_count": 19,
   "metadata": {
    "collapsed": false
   },
   "outputs": [
    {
     "name": "stdout",
     "output_type": "stream",
     "text": [
      "1    0.518504\n",
      "0    0.481496\n",
      "Name: label, dtype: float64\n",
      "Baseline if using all of the data is 51.8%.\n",
      "1    0.517071\n",
      "0    0.482929\n",
      "Name: label, dtype: float64\n",
      "Baseline if using all of the data is 51.7%.\n"
     ]
    }
   ],
   "source": [
    "#Baseline for model to beat. Essentially, what if your predictor was always \"evergreen\"?\n",
    "#All of dataset.\n",
    "print y.value_counts()/y.count()\n",
    "print \"Baseline if using all of the data is 51.8%.\"\n",
    "\n",
    "#If using training only?\n",
    "print y_train.value_counts()/y_train.count()\n",
    "print \"Baseline if using all of the data is 51.7%.\""
   ]
  },
  {
   "cell_type": "markdown",
   "metadata": {},
   "source": [
    "### Initial thoughts:\n",
    "\n",
    "1) The average R_squared for the training data fit is .63, which is so much better than statsmodel without CV (0.05ish). My hypothesis is because I did not run statsmodels logistic regression on normalized numeric data.\n",
    "\n",
    "2) The model is better than a coinflip, and better than the baseline of 51.7% for the training data if saying evergreen all the time..."
   ]
  },
  {
   "cell_type": "markdown",
   "metadata": {},
   "source": [
    "### Fitting a Logistic Regression CV with 10 folds, L2 penalty, on the whole dataset (categorical and the numerical binary vars)\n",
    "\n",
    "So now we are including alchemy_category, is_news, hasDomainLink, and the front page news variable."
   ]
  },
  {
   "cell_type": "code",
   "execution_count": 20,
   "metadata": {
    "collapsed": false
   },
   "outputs": [
    {
     "name": "stdout",
     "output_type": "stream",
     "text": [
      "The scores from the CV are:\n",
      "[array([[ 0.69382716,  0.70864198,  0.70864198,  0.71851852,  0.71358025,\n",
      "         0.71604938,  0.71111111,  0.71358025,  0.71358025,  0.64938272,\n",
      "         0.65679012,  0.68148148,  0.71358025,  0.71358025,  0.71358025,\n",
      "         0.71358025,  0.71358025,  0.71358025,  0.71358025],\n",
      "       [ 0.67160494,  0.67407407,  0.67901235,  0.68641975,  0.67901235,\n",
      "         0.67407407,  0.67160494,  0.67407407,  0.67654321,  0.62469136,\n",
      "         0.64444444,  0.65925926,  0.68395062,  0.67654321,  0.6691358 ,\n",
      "         0.6691358 ,  0.6691358 ,  0.6691358 ,  0.6691358 ],\n",
      "       [ 0.68316832,  0.68811881,  0.68811881,  0.68564356,  0.68069307,\n",
      "         0.68069307,  0.68069307,  0.68069307,  0.68069307,  0.61633663,\n",
      "         0.64851485,  0.66089109,  0.68564356,  0.68316832,  0.68316832,\n",
      "         0.68316832,  0.68316832,  0.68316832,  0.68316832],\n",
      "       [ 0.68811881,  0.71287129,  0.70049505,  0.70544554,  0.7029703 ,\n",
      "         0.70792079,  0.70792079,  0.71287129,  0.70792079,  0.60643564,\n",
      "         0.62128713,  0.66831683,  0.7029703 ,  0.71039604,  0.70792079,\n",
      "         0.70792079,  0.70792079,  0.71039604,  0.71039604],\n",
      "       [ 0.69306931,  0.70544554,  0.70544554,  0.69554455,  0.68069307,\n",
      "         0.66831683,  0.66336634,  0.66336634,  0.66831683,  0.63861386,\n",
      "         0.67326733,  0.67821782,  0.69554455,  0.66336634,  0.67079208,\n",
      "         0.67079208,  0.67079208,  0.67079208,  0.67079208],\n",
      "       [ 0.67821782,  0.68316832,  0.68069307,  0.67326733,  0.67079208,\n",
      "         0.66831683,  0.67079208,  0.66831683,  0.66584158,  0.58910891,\n",
      "         0.61881188,  0.66831683,  0.67079208,  0.67079208,  0.66584158,\n",
      "         0.65841584,  0.65841584,  0.65841584,  0.65841584],\n",
      "       [ 0.66336634,  0.66584158,  0.65594059,  0.64851485,  0.64851485,\n",
      "         0.6509901 ,  0.65346535,  0.66336634,  0.66089109,  0.62623762,\n",
      "         0.6509901 ,  0.66584158,  0.64851485,  0.65594059,  0.66089109,\n",
      "         0.66089109,  0.66089109,  0.66089109,  0.66089109],\n",
      "       [ 0.7029703 ,  0.7029703 ,  0.70544554,  0.7029703 ,  0.6980198 ,\n",
      "         0.69554455,  0.6980198 ,  0.69554455,  0.69554455,  0.62128713,\n",
      "         0.65346535,  0.69059406,  0.70049505,  0.69554455,  0.6980198 ,\n",
      "         0.6980198 ,  0.6980198 ,  0.6980198 ,  0.6980198 ],\n",
      "       [ 0.68564356,  0.71287129,  0.70792079,  0.70792079,  0.6980198 ,\n",
      "         0.7029703 ,  0.7029703 ,  0.70049505,  0.69554455,  0.63366337,\n",
      "         0.63613861,  0.67079208,  0.70792079,  0.6980198 ,  0.69059406,\n",
      "         0.69059406,  0.69059406,  0.69059406,  0.69059406],\n",
      "       [ 0.6980198 ,  0.6980198 ,  0.71287129,  0.7029703 ,  0.69306931,\n",
      "         0.6980198 ,  0.6980198 ,  0.70544554,  0.70049505,  0.62623762,\n",
      "         0.66584158,  0.69554455,  0.7029703 ,  0.70049505,  0.6980198 ,\n",
      "         0.70049505,  0.70049505,  0.70049505,  0.70049505]])]\n",
      "The average of the scores from 10 folds over 10 Cs were: 0.681616711379\n",
      "\n",
      "The C's used were:\n",
      "[  1.00000000e-02   2.00000000e-02   3.00000000e-02   5.00000000e-02\n",
      "   1.00000000e-01   2.00000000e-01   3.00000000e-01   5.00000000e-01\n",
      "   1.00000000e+00   1.00000000e-04   7.74263683e-04   5.99484250e-03\n",
      "   4.64158883e-02   3.59381366e-01   2.78255940e+00   2.15443469e+01\n",
      "   1.66810054e+02   1.29154967e+03   1.00000000e+04]\n",
      "The Best C is:\n",
      "[ 0.02]\n",
      "\n",
      "The accuracy score of this model on all data is: 0.695351137488\n",
      "The coefficients for our model with Ridge regularization for our Logistic Regression are below.\n"
     ]
    },
    {
     "data": {
      "text/html": [
       "<div>\n",
       "<table border=\"1\" class=\"dataframe\">\n",
       "  <thead>\n",
       "    <tr style=\"text-align: right;\">\n",
       "      <th></th>\n",
       "      <th>alchemy_category_score</th>\n",
       "      <th>avglinksize</th>\n",
       "      <th>commonlinkratio_1</th>\n",
       "      <th>commonlinkratio_2</th>\n",
       "      <th>commonlinkratio_3</th>\n",
       "      <th>commonlinkratio_4</th>\n",
       "      <th>compression_ratio</th>\n",
       "      <th>embed_ratio</th>\n",
       "      <th>frameTagRatio</th>\n",
       "      <th>html_ratio</th>\n",
       "      <th>...</th>\n",
       "      <th>law_crime</th>\n",
       "      <th>recreation</th>\n",
       "      <th>religion</th>\n",
       "      <th>science_technology</th>\n",
       "      <th>sports</th>\n",
       "      <th>unknown</th>\n",
       "      <th>weather</th>\n",
       "      <th>hasDomainLink</th>\n",
       "      <th>is_news</th>\n",
       "      <th>news_front_page</th>\n",
       "    </tr>\n",
       "  </thead>\n",
       "  <tbody>\n",
       "    <tr>\n",
       "      <th>0</th>\n",
       "      <td>-0.109037</td>\n",
       "      <td>0.025696</td>\n",
       "      <td>0.08352</td>\n",
       "      <td>0.005997</td>\n",
       "      <td>0.188181</td>\n",
       "      <td>-0.064073</td>\n",
       "      <td>0.01839</td>\n",
       "      <td>-0.064696</td>\n",
       "      <td>-0.298564</td>\n",
       "      <td>0.009882</td>\n",
       "      <td>...</td>\n",
       "      <td>-0.006577</td>\n",
       "      <td>0.714639</td>\n",
       "      <td>-0.009802</td>\n",
       "      <td>-0.030741</td>\n",
       "      <td>-0.547079</td>\n",
       "      <td>-0.007693</td>\n",
       "      <td>-0.001378</td>\n",
       "      <td>-0.027421</td>\n",
       "      <td>0.035665</td>\n",
       "      <td>-0.22638</td>\n",
       "    </tr>\n",
       "  </tbody>\n",
       "</table>\n",
       "<p>1 rows × 33 columns</p>\n",
       "</div>"
      ],
      "text/plain": [
       "   alchemy_category_score  avglinksize  commonlinkratio_1  commonlinkratio_2  \\\n",
       "0               -0.109037     0.025696            0.08352           0.005997   \n",
       "\n",
       "   commonlinkratio_3  commonlinkratio_4  compression_ratio  embed_ratio  \\\n",
       "0           0.188181          -0.064073            0.01839    -0.064696   \n",
       "\n",
       "   frameTagRatio  html_ratio       ...         law_crime  recreation  \\\n",
       "0      -0.298564    0.009882       ...         -0.006577    0.714639   \n",
       "\n",
       "   religion  science_technology    sports   unknown   weather  hasDomainLink  \\\n",
       "0 -0.009802           -0.030741 -0.547079 -0.007693 -0.001378      -0.027421   \n",
       "\n",
       "    is_news  news_front_page  \n",
       "0  0.035665         -0.22638  \n",
       "\n",
       "[1 rows x 33 columns]"
      ]
     },
     "execution_count": 20,
     "metadata": {},
     "output_type": "execute_result"
    }
   ],
   "source": [
    "#All of data....\n",
    "logregcv_l2_whole = LogisticRegressionCV(Cs = [0.01,0.02,0.03,0.05,0.1,0.2,0.3,0.5,1.0, \n",
    "                                      1.00000000e-04, 7.74263683e-04, 5.99484250e-03, 4.64158883e-02, \n",
    "                                      3.59381366e-01, 2.78255940e+00, 2.15443469e+01, 1.66810054e+02,\n",
    "                                      1.29154967e+03, 1.00000000e+04], cv = 10, solver = 'liblinear', random_state = 31)\n",
    "logregcv_l2_whole.fit(X_train,y_train)\n",
    "y_pred_l2_whole = logregcv_l2_whole.predict(X_test)\n",
    "\n",
    "#scores from CV\n",
    "print \"The scores from the CV are:\"\n",
    "print logregcv_l2_whole.scores_.values()\n",
    "print \"The average of the scores from 10 folds over 10 Cs were:\", np.mean(logregcv_l2_whole.scores_.values())\n",
    "print \"\"\n",
    "print \"The C's used were:\"\n",
    "print logregcv_l2_whole.Cs_\n",
    "print \"The Best C is:\"\n",
    "print logregcv_l2_whole.C_\n",
    "\n",
    "#accuracy score\n",
    "from sklearn.metrics import accuracy_score\n",
    "print \"\"\n",
    "print \"The accuracy score of this model on all data is:\", accuracy_score(y_test, y_pred_l2_whole)\n",
    "\n",
    "coefficients = pd.DataFrame(logregcv_l2_whole.coef_, columns = X_train.columns)\n",
    "print \"The coefficients for our model with Ridge regularization for our Logistic Regression are below.\"\n",
    "coefficients"
   ]
  },
  {
   "cell_type": "markdown",
   "metadata": {},
   "source": [
    "### Fitting a Logistic Regression CV with 10 folds, L1 penalty, on the whole dataset (categorical and the numerical binary vars)\n",
    "\n",
    "So now we are including alchemy_category, is_news, hasDomainLink, and the front page news variable."
   ]
  },
  {
   "cell_type": "code",
   "execution_count": 21,
   "metadata": {
    "collapsed": false
   },
   "outputs": [
    {
     "name": "stdout",
     "output_type": "stream",
     "text": [
      "The scores from the CV are:\n",
      "[array([[ 0.63703704,  0.68395062,  0.70123457,  0.71111111,  0.7037037 ,\n",
      "         0.70123457,  0.7037037 ,  0.71111111,  0.70864198,  0.48395062,\n",
      "         0.48395062,  0.59259259,  0.70864198,  0.70617284,  0.71358025,\n",
      "         0.71358025,  0.71358025,  0.71358025,  0.71358025],\n",
      "       [ 0.62222222,  0.6617284 ,  0.6617284 ,  0.6691358 ,  0.67407407,\n",
      "         0.68395062,  0.67407407,  0.67407407,  0.6691358 ,  0.48395062,\n",
      "         0.48395062,  0.62222222,  0.67407407,  0.67654321,  0.67654321,\n",
      "         0.6691358 ,  0.6691358 ,  0.6691358 ,  0.6691358 ],\n",
      "       [ 0.63613861,  0.67079208,  0.66584158,  0.68811881,  0.68811881,\n",
      "         0.68811881,  0.67821782,  0.67574257,  0.68069307,  0.48267327,\n",
      "         0.48267327,  0.61138614,  0.68564356,  0.68069307,  0.68316832,\n",
      "         0.68316832,  0.68316832,  0.68316832,  0.68316832],\n",
      "       [ 0.62128713,  0.66831683,  0.69554455,  0.6980198 ,  0.70049505,\n",
      "         0.70049505,  0.70544554,  0.7029703 ,  0.70792079,  0.48267327,\n",
      "         0.48267327,  0.57178218,  0.69306931,  0.7029703 ,  0.70792079,\n",
      "         0.70792079,  0.70792079,  0.70792079,  0.70792079],\n",
      "       [ 0.62623762,  0.67821782,  0.6980198 ,  0.69059406,  0.69306931,\n",
      "         0.67574257,  0.67079208,  0.66089109,  0.66584158,  0.48267327,\n",
      "         0.48267327,  0.58415842,  0.69306931,  0.66336634,  0.66831683,\n",
      "         0.67079208,  0.67079208,  0.67079208,  0.67079208],\n",
      "       [ 0.62871287,  0.69059406,  0.68564356,  0.67326733,  0.68316832,\n",
      "         0.67821782,  0.67326733,  0.67079208,  0.66831683,  0.48267327,\n",
      "         0.48267327,  0.57920792,  0.67821782,  0.67079208,  0.66584158,\n",
      "         0.66336634,  0.65841584,  0.65841584,  0.65841584],\n",
      "       [ 0.62871287,  0.66089109,  0.66584158,  0.65594059,  0.65594059,\n",
      "         0.66336634,  0.66584158,  0.66584158,  0.66584158,  0.48267327,\n",
      "         0.48267327,  0.60148515,  0.66089109,  0.66584158,  0.66089109,\n",
      "         0.66089109,  0.66089109,  0.66089109,  0.66089109],\n",
      "       [ 0.6460396 ,  0.68564356,  0.6980198 ,  0.70792079,  0.70792079,\n",
      "         0.6980198 ,  0.6980198 ,  0.70049505,  0.69554455,  0.48267327,\n",
      "         0.48267327,  0.63118812,  0.70544554,  0.70049505,  0.69554455,\n",
      "         0.6980198 ,  0.6980198 ,  0.6980198 ,  0.6980198 ],\n",
      "       [ 0.64108911,  0.67326733,  0.69554455,  0.6980198 ,  0.70049505,\n",
      "         0.70049505,  0.70049505,  0.6980198 ,  0.69554455,  0.48267327,\n",
      "         0.48267327,  0.61386139,  0.69306931,  0.69554455,  0.69059406,\n",
      "         0.69059406,  0.69059406,  0.69059406,  0.69059406],\n",
      "       [ 0.64356436,  0.68811881,  0.7029703 ,  0.70792079,  0.70792079,\n",
      "         0.69554455,  0.7029703 ,  0.70049505,  0.70049505,  0.48267327,\n",
      "         0.48267327,  0.61386139,  0.70544554,  0.6980198 ,  0.7029703 ,\n",
      "         0.6980198 ,  0.70049505,  0.70049505,  0.70049505]])]\n",
      "The average of the scores from 10 folds over 10 Cs were: 0.657750275028\n",
      "\n",
      "The C's used were:\n",
      "[  1.00000000e-02   2.00000000e-02   3.00000000e-02   5.00000000e-02\n",
      "   1.00000000e-01   2.00000000e-01   3.00000000e-01   5.00000000e-01\n",
      "   1.00000000e+00   1.00000000e-04   7.74263683e-04   5.99484250e-03\n",
      "   4.64158883e-02   3.59381366e-01   2.78255940e+00   2.15443469e+01\n",
      "   1.66810054e+02   1.29154967e+03   1.00000000e+04]\n",
      "The best C is:\n",
      "[ 0.1]\n",
      "\n",
      "The accuracy score of this model on all data is: 0.692383778437\n",
      "The coefficients for our model with Ridge regularization for our Logistic Regression are below.\n"
     ]
    },
    {
     "data": {
      "text/html": [
       "<div>\n",
       "<table border=\"1\" class=\"dataframe\">\n",
       "  <thead>\n",
       "    <tr style=\"text-align: right;\">\n",
       "      <th></th>\n",
       "      <th>alchemy_category_score</th>\n",
       "      <th>avglinksize</th>\n",
       "      <th>commonlinkratio_1</th>\n",
       "      <th>commonlinkratio_2</th>\n",
       "      <th>commonlinkratio_3</th>\n",
       "      <th>commonlinkratio_4</th>\n",
       "      <th>compression_ratio</th>\n",
       "      <th>embed_ratio</th>\n",
       "      <th>frameTagRatio</th>\n",
       "      <th>html_ratio</th>\n",
       "      <th>...</th>\n",
       "      <th>law_crime</th>\n",
       "      <th>recreation</th>\n",
       "      <th>religion</th>\n",
       "      <th>science_technology</th>\n",
       "      <th>sports</th>\n",
       "      <th>unknown</th>\n",
       "      <th>weather</th>\n",
       "      <th>hasDomainLink</th>\n",
       "      <th>is_news</th>\n",
       "      <th>news_front_page</th>\n",
       "    </tr>\n",
       "  </thead>\n",
       "  <tbody>\n",
       "    <tr>\n",
       "      <th>0</th>\n",
       "      <td>-0.086831</td>\n",
       "      <td>0.014528</td>\n",
       "      <td>0.078552</td>\n",
       "      <td>0.0</td>\n",
       "      <td>0.150291</td>\n",
       "      <td>-0.013239</td>\n",
       "      <td>0.003635</td>\n",
       "      <td>-0.060961</td>\n",
       "      <td>-0.299227</td>\n",
       "      <td>0.0</td>\n",
       "      <td>...</td>\n",
       "      <td>0.0</td>\n",
       "      <td>0.961719</td>\n",
       "      <td>0.0</td>\n",
       "      <td>0.0</td>\n",
       "      <td>-0.749676</td>\n",
       "      <td>0.0</td>\n",
       "      <td>0.0</td>\n",
       "      <td>0.0</td>\n",
       "      <td>0.009187</td>\n",
       "      <td>-0.265865</td>\n",
       "    </tr>\n",
       "  </tbody>\n",
       "</table>\n",
       "<p>1 rows × 33 columns</p>\n",
       "</div>"
      ],
      "text/plain": [
       "   alchemy_category_score  avglinksize  commonlinkratio_1  commonlinkratio_2  \\\n",
       "0               -0.086831     0.014528           0.078552                0.0   \n",
       "\n",
       "   commonlinkratio_3  commonlinkratio_4  compression_ratio  embed_ratio  \\\n",
       "0           0.150291          -0.013239           0.003635    -0.060961   \n",
       "\n",
       "   frameTagRatio  html_ratio       ...         law_crime  recreation  \\\n",
       "0      -0.299227         0.0       ...               0.0    0.961719   \n",
       "\n",
       "   religion  science_technology    sports  unknown  weather  hasDomainLink  \\\n",
       "0       0.0                 0.0 -0.749676      0.0      0.0            0.0   \n",
       "\n",
       "    is_news  news_front_page  \n",
       "0  0.009187        -0.265865  \n",
       "\n",
       "[1 rows x 33 columns]"
      ]
     },
     "execution_count": 21,
     "metadata": {},
     "output_type": "execute_result"
    }
   ],
   "source": [
    "#All of data....\n",
    "logregcv_l1_whole = LogisticRegressionCV(Cs = [0.01,0.02,0.03,0.05,0.1,0.2,0.3,0.5,1.0, \n",
    "                                      1.00000000e-04, 7.74263683e-04, 5.99484250e-03, 4.64158883e-02, \n",
    "                                      3.59381366e-01, 2.78255940e+00, 2.15443469e+01, 1.66810054e+02,\n",
    "                                      1.29154967e+03, 1.00000000e+04], penalty = 'l1', cv = 10, solver = 'liblinear', random_state = 31)\n",
    "logregcv_l1_whole.fit(X_train,y_train)\n",
    "y_pred_l1_whole = logregcv_l1_whole.predict(X_test)\n",
    "\n",
    "#scores from CV\n",
    "print \"The scores from the CV are:\"\n",
    "print logregcv_l1_whole.scores_.values()\n",
    "print \"The average of the scores from 10 folds over 10 Cs were:\", np.mean(logregcv_l1_whole.scores_.values())\n",
    "print \"\"\n",
    "print \"The C's used were:\"\n",
    "print logregcv_l1_whole.Cs_\n",
    "print \"The best C is:\"\n",
    "print logregcv_l1_whole.C_\n",
    "\n",
    "#accuracy score\n",
    "from sklearn.metrics import accuracy_score\n",
    "print \"\"\n",
    "print \"The accuracy score of this model on all data is:\", accuracy_score(y_test, y_pred_l1_whole)\n",
    "\n",
    "coefficients = pd.DataFrame(logregcv_l1_whole.coef_, columns = X_train.columns)\n",
    "print \"The coefficients for our model with Ridge regularization for our Logistic Regression are below.\"\n",
    "coefficients"
   ]
  },
  {
   "cell_type": "markdown",
   "metadata": {},
   "source": [
    "### Initial Thoughts on using all of the numerical and categorical data.\n",
    "\n",
    "1) What I wish is that I could see the p-values to see what should be tossed out.\n",
    "\n",
    "2) The average fit score on the training data is five percentage points better than with numerical only. So categorical adds some value.\n",
    "\n",
    "3) The accuracy score on the test data is 0.69, which is better than numerical only and better than the baseline."
   ]
  },
  {
   "cell_type": "markdown",
   "metadata": {},
   "source": [
    "## 4. Use sklearn to cross-validate the accuracy of the model above\n",
    "\n",
    "Normalize the numeric and categorical columns of the predictor matrix.\n",
    "\n",
    "---"
   ]
  },
  {
   "cell_type": "markdown",
   "metadata": {
    "collapsed": true
   },
   "source": [
    "I am not sure what normalizing the categorical columns entails...\n",
    "\n",
    "However, the numerical data was normalized above with StandardScaler()"
   ]
  },
  {
   "cell_type": "markdown",
   "metadata": {},
   "source": [
    "## 5. Gridsearch regularization parameters for logistic regression\n",
    "\n",
    "Find the best regularization type (Ridge, Lasso) across a set of regularization strengths.\n",
    "\n",
    "[NOTE: C is the inverse of the regularization strength. Lower C values are stronger regularization. Having a C higher than 1 will significantly slow down the search. I'm not particularly interested in values over 1, since this is the default regularization strength in LogisticRegression.]\n",
    "\n",
    "**After you find the best set of parameters, build a Logistic Regression with those parameters and crossvalidate the score.**\n",
    "\n",
    "[NOTE 2: to run Lasso regularization the solver should be `'liblinear'`]\n",
    "\n",
    "---"
   ]
  },
  {
   "cell_type": "code",
   "execution_count": null,
   "metadata": {
    "collapsed": true
   },
   "outputs": [],
   "source": [
    "#Note - if I used LogisticRegressionCV above and it incorporated a variety of C's, is it the equivalent to GridSearchCV?\n"
   ]
  },
  {
   "cell_type": "markdown",
   "metadata": {},
   "source": [
    "### Gridsearch on the Logistic using Ridge regression, but liblinear library. "
   ]
  },
  {
   "cell_type": "code",
   "execution_count": 22,
   "metadata": {
    "collapsed": false
   },
   "outputs": [
    {
     "name": "stdout",
     "output_type": "stream",
     "text": [
      "The best C for Ridge is:\n",
      "{'C': 0.02}\n",
      "The best score for Ridge with that C was:\n",
      "0.695200395844\n"
     ]
    }
   ],
   "source": [
    "#Just using the whole training set.\n",
    "from sklearn.grid_search import GridSearchCV\n",
    "\n",
    "from sklearn.linear_model import LogisticRegression\n",
    "\n",
    "logreg_ridge = LogisticRegression(penalty = 'l2', solver = 'liblinear', random_state = 31)\n",
    "\n",
    "logreg_ridge_grid = GridSearchCV(logreg_ridge,\n",
    "                   param_grid = {\"C\":[0.01,0.02,0.03,0.05,0.1,0.2,0.3,0.5,1.0, \n",
    "                                      1.00000000e-04, 7.74263683e-04, 5.99484250e-03, 4.64158883e-02, \n",
    "                                      3.59381366e-01, 2.78255940e+00, 2.15443469e+01, 1.66810054e+02,\n",
    "                                      1.29154967e+03, 1.00000000e+04]}, cv = 10) #just using this...\n",
    "\n",
    "logreg_ridge_grid.fit(X_train, y_train)\n",
    "print \"The best C for Ridge is:\"\n",
    "print logreg_ridge_grid.best_params_\n",
    "print \"The best score for Ridge with that C was:\"\n",
    "print logreg_ridge_grid.best_score_\n",
    "\n"
   ]
  },
  {
   "cell_type": "markdown",
   "metadata": {},
   "source": [
    "### Gridsearch on Logistic with Lasso Regression."
   ]
  },
  {
   "cell_type": "code",
   "execution_count": 23,
   "metadata": {
    "collapsed": false
   },
   "outputs": [
    {
     "name": "stdout",
     "output_type": "stream",
     "text": [
      "The best C for Lasso is:\n",
      "{'C': 0.1}\n",
      "The best score for Lasso with that C was:\n",
      "0.691489361702\n"
     ]
    },
    {
     "data": {
      "text/plain": [
       "LogisticRegression(C=0.1, class_weight=None, dual=False, fit_intercept=True,\n",
       "          intercept_scaling=1, max_iter=100, multi_class='ovr', n_jobs=1,\n",
       "          penalty='l1', random_state=31, solver='liblinear', tol=0.0001,\n",
       "          verbose=0, warm_start=False)"
      ]
     },
     "execution_count": 23,
     "metadata": {},
     "output_type": "execute_result"
    }
   ],
   "source": [
    "#Just using the whole training set.\n",
    "from sklearn.grid_search import GridSearchCV\n",
    "\n",
    "from sklearn.linear_model import LogisticRegression\n",
    "\n",
    "logreg_lasso = LogisticRegression(penalty = 'l1', solver = 'liblinear', random_state = 31)\n",
    "\n",
    "logreg_lasso_grid = GridSearchCV(logreg_lasso,\n",
    "                   param_grid = {\"C\":[0.01,0.02,0.03,0.05,0.1,0.2,0.3,0.5,1.0, \n",
    "                                      1.00000000e-04, 7.74263683e-04, 5.99484250e-03, 4.64158883e-02, \n",
    "                                      3.59381366e-01, 2.78255940e+00, 2.15443469e+01, 1.66810054e+02,\n",
    "                                      1.29154967e+03, 1.00000000e+04]}, cv = 10) #just using this...\n",
    "\n",
    "logreg_lasso_grid.fit(X_train, y_train)\n",
    "print \"The best C for Lasso is:\"\n",
    "print logreg_lasso_grid.best_params_\n",
    "print \"The best score for Lasso with that C was:\"\n",
    "print logreg_lasso_grid.best_score_\n",
    "logreg_lasso_grid.best_estimator_\n",
    "\n"
   ]
  },
  {
   "cell_type": "markdown",
   "metadata": {},
   "source": [
    "### Thoughts\n",
    "\n",
    "1) GridSearchCV and LogisticRegressionCV produce the same results when given the same random_state and C's to iterate on. So they are the same when GridSearchCV is using LogisticRegression as its estimator...\n",
    "\n"
   ]
  },
  {
   "cell_type": "markdown",
   "metadata": {},
   "source": [
    "### Building a Lasso Logistic with best_params\n",
    "\n",
    "Why? Because there are so many variables."
   ]
  },
  {
   "cell_type": "code",
   "execution_count": 24,
   "metadata": {
    "collapsed": false
   },
   "outputs": [
    {
     "name": "stdout",
     "output_type": "stream",
     "text": [
      "Score for fit for Lasso is: 0.695695200396\n",
      "\n",
      "Accuracy Score is: 0.692383778437\n"
     ]
    },
    {
     "data": {
      "text/html": [
       "<div>\n",
       "<table border=\"1\" class=\"dataframe\">\n",
       "  <thead>\n",
       "    <tr style=\"text-align: right;\">\n",
       "      <th></th>\n",
       "      <th>alchemy_category_score</th>\n",
       "      <th>avglinksize</th>\n",
       "      <th>commonlinkratio_1</th>\n",
       "      <th>commonlinkratio_2</th>\n",
       "      <th>commonlinkratio_3</th>\n",
       "      <th>commonlinkratio_4</th>\n",
       "      <th>compression_ratio</th>\n",
       "      <th>embed_ratio</th>\n",
       "      <th>frameTagRatio</th>\n",
       "      <th>html_ratio</th>\n",
       "      <th>...</th>\n",
       "      <th>law_crime</th>\n",
       "      <th>recreation</th>\n",
       "      <th>religion</th>\n",
       "      <th>science_technology</th>\n",
       "      <th>sports</th>\n",
       "      <th>unknown</th>\n",
       "      <th>weather</th>\n",
       "      <th>hasDomainLink</th>\n",
       "      <th>is_news</th>\n",
       "      <th>news_front_page</th>\n",
       "    </tr>\n",
       "  </thead>\n",
       "  <tbody>\n",
       "    <tr>\n",
       "      <th>0</th>\n",
       "      <td>-0.086831</td>\n",
       "      <td>0.014528</td>\n",
       "      <td>0.078552</td>\n",
       "      <td>0.0</td>\n",
       "      <td>0.150291</td>\n",
       "      <td>-0.013239</td>\n",
       "      <td>0.003635</td>\n",
       "      <td>-0.060961</td>\n",
       "      <td>-0.299227</td>\n",
       "      <td>0.0</td>\n",
       "      <td>...</td>\n",
       "      <td>0.0</td>\n",
       "      <td>0.961719</td>\n",
       "      <td>0.0</td>\n",
       "      <td>0.0</td>\n",
       "      <td>-0.749676</td>\n",
       "      <td>0.0</td>\n",
       "      <td>0.0</td>\n",
       "      <td>0.0</td>\n",
       "      <td>0.009187</td>\n",
       "      <td>-0.265865</td>\n",
       "    </tr>\n",
       "  </tbody>\n",
       "</table>\n",
       "<p>1 rows × 33 columns</p>\n",
       "</div>"
      ],
      "text/plain": [
       "   alchemy_category_score  avglinksize  commonlinkratio_1  commonlinkratio_2  \\\n",
       "0               -0.086831     0.014528           0.078552                0.0   \n",
       "\n",
       "   commonlinkratio_3  commonlinkratio_4  compression_ratio  embed_ratio  \\\n",
       "0           0.150291          -0.013239           0.003635    -0.060961   \n",
       "\n",
       "   frameTagRatio  html_ratio       ...         law_crime  recreation  \\\n",
       "0      -0.299227         0.0       ...               0.0    0.961719   \n",
       "\n",
       "   religion  science_technology    sports  unknown  weather  hasDomainLink  \\\n",
       "0       0.0                 0.0 -0.749676      0.0      0.0            0.0   \n",
       "\n",
       "    is_news  news_front_page  \n",
       "0  0.009187        -0.265865  \n",
       "\n",
       "[1 rows x 33 columns]"
      ]
     },
     "execution_count": 24,
     "metadata": {},
     "output_type": "execute_result"
    }
   ],
   "source": [
    "logreg_lasso = logreg_lasso_grid.best_estimator_\n",
    "logreg_lasso.fit(X_train, y_train)\n",
    "y_pred_lasso = logreg_lasso.predict(X_test)\n",
    "\n",
    "print \"Score for fit for Lasso is:\", logreg_lasso.score(X_train,y_train)\n",
    "print \"\"\n",
    "print \"Accuracy Score is:\", accuracy_score(y_test, y_pred_lasso)\n",
    "\n",
    "coefficients_lasso_final = pd.DataFrame(logreg_lasso.coef_, columns = X_train.columns)\n",
    "coefficients_lasso_final\n",
    "\n"
   ]
  },
  {
   "cell_type": "code",
   "execution_count": 25,
   "metadata": {
    "collapsed": false
   },
   "outputs": [
    {
     "name": "stdout",
     "output_type": "stream",
     "text": [
      "[u'commonlinkratio_2', u'html_ratio', u'image_ratio', 'gaming', 'law_crime', 'religion', 'science_technology', 'unknown', 'weather', 'hasDomainLink']\n"
     ]
    }
   ],
   "source": [
    "#What are dropped features?\n",
    "dropped_lasso = []\n",
    "for i in coefficients_lasso_final.columns:\n",
    "    if coefficients_lasso_final[i][0] == 0:\n",
    "        dropped_lasso.append(i)\n",
    "        \n",
    "print dropped_lasso"
   ]
  },
  {
   "cell_type": "code",
   "execution_count": 26,
   "metadata": {
    "collapsed": false
   },
   "outputs": [
    {
     "name": "stdout",
     "output_type": "stream",
     "text": [
      "Score for fit for Ridge is: 0.698416625433\n",
      "\n",
      "Accuracy Score is: 0.695351137488\n"
     ]
    },
    {
     "data": {
      "text/html": [
       "<div>\n",
       "<table border=\"1\" class=\"dataframe\">\n",
       "  <thead>\n",
       "    <tr style=\"text-align: right;\">\n",
       "      <th></th>\n",
       "      <th>alchemy_category_score</th>\n",
       "      <th>avglinksize</th>\n",
       "      <th>commonlinkratio_1</th>\n",
       "      <th>commonlinkratio_2</th>\n",
       "      <th>commonlinkratio_3</th>\n",
       "      <th>commonlinkratio_4</th>\n",
       "      <th>compression_ratio</th>\n",
       "      <th>embed_ratio</th>\n",
       "      <th>frameTagRatio</th>\n",
       "      <th>html_ratio</th>\n",
       "      <th>...</th>\n",
       "      <th>law_crime</th>\n",
       "      <th>recreation</th>\n",
       "      <th>religion</th>\n",
       "      <th>science_technology</th>\n",
       "      <th>sports</th>\n",
       "      <th>unknown</th>\n",
       "      <th>weather</th>\n",
       "      <th>hasDomainLink</th>\n",
       "      <th>is_news</th>\n",
       "      <th>news_front_page</th>\n",
       "    </tr>\n",
       "  </thead>\n",
       "  <tbody>\n",
       "    <tr>\n",
       "      <th>0</th>\n",
       "      <td>-0.109037</td>\n",
       "      <td>0.025696</td>\n",
       "      <td>0.08352</td>\n",
       "      <td>0.005997</td>\n",
       "      <td>0.188181</td>\n",
       "      <td>-0.064073</td>\n",
       "      <td>0.01839</td>\n",
       "      <td>-0.064696</td>\n",
       "      <td>-0.298564</td>\n",
       "      <td>0.009882</td>\n",
       "      <td>...</td>\n",
       "      <td>-0.006577</td>\n",
       "      <td>0.714639</td>\n",
       "      <td>-0.009802</td>\n",
       "      <td>-0.030741</td>\n",
       "      <td>-0.547079</td>\n",
       "      <td>-0.007693</td>\n",
       "      <td>-0.001378</td>\n",
       "      <td>-0.027421</td>\n",
       "      <td>0.035665</td>\n",
       "      <td>-0.22638</td>\n",
       "    </tr>\n",
       "  </tbody>\n",
       "</table>\n",
       "<p>1 rows × 33 columns</p>\n",
       "</div>"
      ],
      "text/plain": [
       "   alchemy_category_score  avglinksize  commonlinkratio_1  commonlinkratio_2  \\\n",
       "0               -0.109037     0.025696            0.08352           0.005997   \n",
       "\n",
       "   commonlinkratio_3  commonlinkratio_4  compression_ratio  embed_ratio  \\\n",
       "0           0.188181          -0.064073            0.01839    -0.064696   \n",
       "\n",
       "   frameTagRatio  html_ratio       ...         law_crime  recreation  \\\n",
       "0      -0.298564    0.009882       ...         -0.006577    0.714639   \n",
       "\n",
       "   religion  science_technology    sports   unknown   weather  hasDomainLink  \\\n",
       "0 -0.009802           -0.030741 -0.547079 -0.007693 -0.001378      -0.027421   \n",
       "\n",
       "    is_news  news_front_page  \n",
       "0  0.035665         -0.22638  \n",
       "\n",
       "[1 rows x 33 columns]"
      ]
     },
     "execution_count": 26,
     "metadata": {},
     "output_type": "execute_result"
    }
   ],
   "source": [
    "logreg_ridge = logreg_ridge_grid.best_estimator_\n",
    "\n",
    "logreg_ridge.fit(X_train, y_train)\n",
    "y_pred_ridge = logreg_ridge.predict(X_test)\n",
    "\n",
    "print \"Score for fit for Ridge is:\", logreg_ridge.score(X_train,y_train)\n",
    "print \"\"\n",
    "print \"Accuracy Score is:\", accuracy_score(y_test, y_pred_ridge)\n",
    "\n",
    "coefficients_ridge_final = pd.DataFrame(logreg_ridge.coef_, columns = X_train.columns)\n",
    "coefficients_ridge_final\n"
   ]
  },
  {
   "cell_type": "markdown",
   "metadata": {},
   "source": [
    "### Crossvalidation was done above both with LogisticRegressionCV and GridSearchCV. \n",
    "\n",
    "1) The coefficients for the best estimators for the two are all above.\n",
    "\n",
    "2) I am not sure if it is a matter of preference to use the L1 output or L2 output. Both models are included, and both do reasonably well in increasing the predictiveness of whether a page is evergreen or not. I would recommend the L1 model purely because it may be computationally more efficient since there are fewer ultimate parameters. If this is not a consideration, then the L2 model may be better as it accomodates outliers better.\n",
    "\n"
   ]
  },
  {
   "cell_type": "markdown",
   "metadata": {},
   "source": [
    "## 6. Gridsearch neighbors for kNN\n",
    "\n",
    "Find the best number of neighbors with your predictors to predict the `label` target variable.\n",
    "\n",
    "Start by bulding a kNN model with a set number of neighbors, then use gridsearch to run through a series of neighbors.\n",
    "\n",
    "---"
   ]
  },
  {
   "cell_type": "code",
   "execution_count": 27,
   "metadata": {
    "collapsed": false
   },
   "outputs": [
    {
     "name": "stdout",
     "output_type": "stream",
     "text": [
      "The best score with KNN was: 0.673428995547\n",
      "The number of neighbors was: {'n_neighbors': 14}\n",
      "KNeighborsClassifier(algorithm='auto', leaf_size=30, metric='minkowski',\n",
      "           metric_params=None, n_jobs=1, n_neighbors=14, p=2,\n",
      "           weights='uniform')\n"
     ]
    }
   ],
   "source": [
    "from sklearn.neighbors import KNeighborsClassifier\n",
    "\n",
    "knn = KNeighborsClassifier(n_neighbors = 5)\n",
    "\n",
    "knn_params = {\"n_neighbors\" : range(1,51)}\n",
    "\n",
    "knn_grid = GridSearchCV(knn, param_grid = knn_params)\n",
    "\n",
    "knn_grid.fit(X_train, y_train)\n",
    "print \"The best score with KNN was:\", knn_grid.best_score_\n",
    "print \"The number of neighbors was:\", knn_grid.best_params_\n",
    "print knn_grid.best_estimator_"
   ]
  },
  {
   "cell_type": "code",
   "execution_count": 28,
   "metadata": {
    "collapsed": false
   },
   "outputs": [
    {
     "name": "stdout",
     "output_type": "stream",
     "text": [
      "The accuracy score for KNN of 14 Neighbors using GridSearchCV's built-in predict method is: 0.700296735905\n",
      "\n",
      "The accuracy score for KNN using best_estimator_ from gridsearchcv to fit the training data and then predict is: 0.700296735905\n",
      "\n",
      "The scores match - they likely both work the same.\n"
     ]
    }
   ],
   "source": [
    "#Taking the best estimator and predicting.\n",
    "\n",
    "#Double Checking by first using the built-in predict method for gridsearchcv.\n",
    "y_1 = knn_grid.predict(X_test)\n",
    "print \"The accuracy score for KNN of 14 Neighbors using GridSearchCV's built-in predict method is:\", accuracy_score(y_test, y_1)\n",
    "\n",
    "#Second, using the best_estimator output from gridsearchcv to build a KNN model.\n",
    "knn2 = knn_grid.best_estimator_\n",
    "knn2.fit(X_train, y_train)\n",
    "y_2 = knn2.predict(X_test)\n",
    "print \"\"\n",
    "print \"The accuracy score for KNN using best_estimator_ from gridsearchcv to fit the training data and then predict is:\", accuracy_score(y_test, y_2)\n",
    "print \"\"\n",
    "print \"The scores match - they likely both work the same.\""
   ]
  },
  {
   "cell_type": "markdown",
   "metadata": {},
   "source": [
    "## 7. Choose a new target from alchemy_category to predict with logistic regression\n",
    "\n",
    "**Ideally your category choice will have a small fraction of the total rows, but not TOO small!**\n",
    "\n",
    "---"
   ]
  },
  {
   "cell_type": "markdown",
   "metadata": {},
   "source": [
    "### 7.1 Chose your target category, create the Y vector, and check the fraction of instances\n",
    "\n",
    "---"
   ]
  },
  {
   "cell_type": "code",
   "execution_count": 29,
   "metadata": {
    "collapsed": false
   },
   "outputs": [
    {
     "name": "stdout",
     "output_type": "stream",
     "text": [
      "['business' 'recreation' 'health' 'sports' 'arts_entertainment'\n",
      " 'science_technology' 'gaming' 'culture_politics' 'computer_internet'\n",
      " 'law_crime' 'religion' 'weather' 'unknown']\n",
      "False    0.825846\n",
      "True     0.174154\n",
      "Name: alchemy_category, dtype: float64\n"
     ]
    },
    {
     "data": {
      "text/plain": [
       "\"17.4% of the data contains business tagged pages. This is definitely not too low, and probably on the larger end, but I'll use it for my target category.\""
      ]
     },
     "execution_count": 29,
     "metadata": {},
     "output_type": "execute_result"
    }
   ],
   "source": [
    "#Print list of unique alchemy categories...\n",
    "print su.alchemy_category.unique()\n",
    "\n",
    "#How many rows in the data does the 'business' category have?\n",
    "print (su.alchemy_category == 'business').value_counts()/su.alchemy_category.count()\n",
    "\n",
    "'''17.4% of the data contains business tagged pages. This is definitely not too low, and probably on the larger end, but I'll use it for my target category.'''"
   ]
  },
  {
   "cell_type": "code",
   "execution_count": 30,
   "metadata": {
    "collapsed": false
   },
   "outputs": [
    {
     "name": "stdout",
     "output_type": "stream",
     "text": [
      "0.0    0.825581\n",
      "1.0    0.174419\n",
      "Name: business, dtype: float64\n",
      "\n",
      "0.0    0.826904\n",
      "1.0    0.173096\n",
      "Name: business, dtype: float64\n"
     ]
    },
    {
     "data": {
      "text/plain": [
       "'The proportions are similar to the overall testing set.'"
      ]
     },
     "execution_count": 30,
     "metadata": {},
     "output_type": "execute_result"
    }
   ],
   "source": [
    "#Creating y vector. Since I had made this a dummy variable above, let's use that encoding.\n",
    "y_business_train = X_train.business\n",
    "y_business_test = X_test.business\n",
    "\n",
    "#Fraction of instances of business in the training data\n",
    "print y_business_train.value_counts()/y_business_train.count()\n",
    "\n",
    "#Fraction of instances of business in the testing data\n",
    "print \"\"\n",
    "print y_business_test.value_counts()/y_business_test.count()\n",
    "\n",
    "'''The proportions are similar to the overall testing set.'''"
   ]
  },
  {
   "cell_type": "markdown",
   "metadata": {},
   "source": [
    "### 7.2 Use patsy to create an X matrix of the numeric predictors and all two-way interactions between them\n",
    "\n",
    "Ex:\n",
    "\n",
    "```python\n",
    "import patsy\n",
    "\n",
    "formula_interactions = '~ (var1 + var2 + var3)**2 -1'\n",
    "X_interactions = patsy.dmatrix(formula_interactions, data=data\n",
    "```\n",
    "\n",
    "Get the column names from the `design_info` property of the patsy X matrix.\n",
    "\n",
    "---"
   ]
  },
  {
   "cell_type": "code",
   "execution_count": 31,
   "metadata": {
    "collapsed": false
   },
   "outputs": [
    {
     "name": "stdout",
     "output_type": "stream",
     "text": [
      "[u'alchemy_category_score', u'avglinksize', u'commonlinkratio_1', u'commonlinkratio_2', u'commonlinkratio_3', u'commonlinkratio_4', u'compression_ratio', u'embed_ratio', u'frameTagRatio', u'html_ratio', u'image_ratio', u'lengthyLinkDomain', u'linkwordscore', u'non_markup_alphanum_characters', u'numberOfLinks', u'numwords_in_url', u'parametrizedLinkRatio', u'spelling_errors_ratio']\n"
     ]
    },
    {
     "data": {
      "text/html": [
       "<div>\n",
       "<table border=\"1\" class=\"dataframe\">\n",
       "  <thead>\n",
       "    <tr style=\"text-align: right;\">\n",
       "      <th></th>\n",
       "      <th>X_test_num.alchemy_category_score</th>\n",
       "      <th>X_test_num.avglinksize</th>\n",
       "      <th>X_test_num.commonlinkratio_1</th>\n",
       "      <th>X_test_num.commonlinkratio_2</th>\n",
       "      <th>X_test_num.commonlinkratio_3</th>\n",
       "      <th>X_test_num.commonlinkratio_4</th>\n",
       "      <th>X_test_num.compression_ratio</th>\n",
       "      <th>X_test_num.embed_ratio</th>\n",
       "      <th>X_test_num.frameTagRatio</th>\n",
       "      <th>X_test_num.html_ratio</th>\n",
       "      <th>...</th>\n",
       "      <th>X_test_num.non_markup_alphanum_characters:X_test_num.numberOfLinks</th>\n",
       "      <th>X_test_num.non_markup_alphanum_characters:X_test_num.numwords_in_url</th>\n",
       "      <th>X_test_num.non_markup_alphanum_characters:X_test_num.parametrizedLinkRatio</th>\n",
       "      <th>X_test_num.non_markup_alphanum_characters:X_test_num.spelling_errors_ratio</th>\n",
       "      <th>X_test_num.numberOfLinks:X_test_num.numwords_in_url</th>\n",
       "      <th>X_test_num.numberOfLinks:X_test_num.parametrizedLinkRatio</th>\n",
       "      <th>X_test_num.numberOfLinks:X_test_num.spelling_errors_ratio</th>\n",
       "      <th>X_test_num.numwords_in_url:X_test_num.parametrizedLinkRatio</th>\n",
       "      <th>X_test_num.numwords_in_url:X_test_num.spelling_errors_ratio</th>\n",
       "      <th>X_test_num.parametrizedLinkRatio:X_test_num.spelling_errors_ratio</th>\n",
       "    </tr>\n",
       "  </thead>\n",
       "  <tbody>\n",
       "    <tr>\n",
       "      <th>558</th>\n",
       "      <td>0.072240</td>\n",
       "      <td>0.106630</td>\n",
       "      <td>-0.051955</td>\n",
       "      <td>0.398623</td>\n",
       "      <td>0.871343</td>\n",
       "      <td>1.269506</td>\n",
       "      <td>-0.247865</td>\n",
       "      <td>0.251504</td>\n",
       "      <td>-0.125996</td>\n",
       "      <td>0.196990</td>\n",
       "      <td>...</td>\n",
       "      <td>0.070981</td>\n",
       "      <td>0.661567</td>\n",
       "      <td>-0.070895</td>\n",
       "      <td>0.068422</td>\n",
       "      <td>0.484566</td>\n",
       "      <td>-0.051927</td>\n",
       "      <td>0.050116</td>\n",
       "      <td>-0.483980</td>\n",
       "      <td>0.467097</td>\n",
       "      <td>-0.050055</td>\n",
       "    </tr>\n",
       "    <tr>\n",
       "      <th>5858</th>\n",
       "      <td>-1.426871</td>\n",
       "      <td>0.030028</td>\n",
       "      <td>1.218927</td>\n",
       "      <td>0.818722</td>\n",
       "      <td>0.852342</td>\n",
       "      <td>0.279624</td>\n",
       "      <td>-0.210773</td>\n",
       "      <td>0.251504</td>\n",
       "      <td>-0.689039</td>\n",
       "      <td>-0.077453</td>\n",
       "      <td>...</td>\n",
       "      <td>0.057422</td>\n",
       "      <td>-0.677724</td>\n",
       "      <td>0.947644</td>\n",
       "      <td>-0.307305</td>\n",
       "      <td>-0.033546</td>\n",
       "      <td>0.046906</td>\n",
       "      <td>-0.015211</td>\n",
       "      <td>-0.553612</td>\n",
       "      <td>0.179527</td>\n",
       "      <td>-0.251028</td>\n",
       "    </tr>\n",
       "    <tr>\n",
       "      <th>4769</th>\n",
       "      <td>-1.613512</td>\n",
       "      <td>0.110604</td>\n",
       "      <td>-0.743622</td>\n",
       "      <td>0.709320</td>\n",
       "      <td>1.838014</td>\n",
       "      <td>-0.694157</td>\n",
       "      <td>-0.203771</td>\n",
       "      <td>0.251504</td>\n",
       "      <td>0.599690</td>\n",
       "      <td>0.662527</td>\n",
       "      <td>...</td>\n",
       "      <td>0.755626</td>\n",
       "      <td>0.683663</td>\n",
       "      <td>-2.344889</td>\n",
       "      <td>1.176477</td>\n",
       "      <td>0.966802</td>\n",
       "      <td>-3.316026</td>\n",
       "      <td>1.663715</td>\n",
       "      <td>-3.000222</td>\n",
       "      <td>1.505270</td>\n",
       "      <td>-5.162912</td>\n",
       "    </tr>\n",
       "    <tr>\n",
       "      <th>4343</th>\n",
       "      <td>0.894753</td>\n",
       "      <td>-0.090929</td>\n",
       "      <td>1.592918</td>\n",
       "      <td>0.678542</td>\n",
       "      <td>-0.038827</td>\n",
       "      <td>-0.488919</td>\n",
       "      <td>-0.222692</td>\n",
       "      <td>0.251504</td>\n",
       "      <td>-0.492587</td>\n",
       "      <td>-0.255985</td>\n",
       "      <td>...</td>\n",
       "      <td>-0.054800</td>\n",
       "      <td>-0.080973</td>\n",
       "      <td>0.059137</td>\n",
       "      <td>-0.018621</td>\n",
       "      <td>0.549394</td>\n",
       "      <td>-0.401237</td>\n",
       "      <td>0.126344</td>\n",
       "      <td>-0.592865</td>\n",
       "      <td>0.186685</td>\n",
       "      <td>-0.136342</td>\n",
       "    </tr>\n",
       "    <tr>\n",
       "      <th>7265</th>\n",
       "      <td>0.366861</td>\n",
       "      <td>-0.128405</td>\n",
       "      <td>-0.483360</td>\n",
       "      <td>-0.770712</td>\n",
       "      <td>-0.614199</td>\n",
       "      <td>-0.454713</td>\n",
       "      <td>4.766837</td>\n",
       "      <td>-3.923825</td>\n",
       "      <td>0.350379</td>\n",
       "      <td>0.063828</td>\n",
       "      <td>...</td>\n",
       "      <td>0.025279</td>\n",
       "      <td>0.039804</td>\n",
       "      <td>0.018417</td>\n",
       "      <td>-0.159949</td>\n",
       "      <td>0.251449</td>\n",
       "      <td>0.116343</td>\n",
       "      <td>-1.010420</td>\n",
       "      <td>0.183192</td>\n",
       "      <td>-1.590985</td>\n",
       "      <td>-0.736137</td>\n",
       "    </tr>\n",
       "  </tbody>\n",
       "</table>\n",
       "<p>5 rows × 171 columns</p>\n",
       "</div>"
      ],
      "text/plain": [
       "      X_test_num.alchemy_category_score  X_test_num.avglinksize  \\\n",
       "558                            0.072240                0.106630   \n",
       "5858                          -1.426871                0.030028   \n",
       "4769                          -1.613512                0.110604   \n",
       "4343                           0.894753               -0.090929   \n",
       "7265                           0.366861               -0.128405   \n",
       "\n",
       "      X_test_num.commonlinkratio_1  X_test_num.commonlinkratio_2  \\\n",
       "558                      -0.051955                      0.398623   \n",
       "5858                      1.218927                      0.818722   \n",
       "4769                     -0.743622                      0.709320   \n",
       "4343                      1.592918                      0.678542   \n",
       "7265                     -0.483360                     -0.770712   \n",
       "\n",
       "      X_test_num.commonlinkratio_3  X_test_num.commonlinkratio_4  \\\n",
       "558                       0.871343                      1.269506   \n",
       "5858                      0.852342                      0.279624   \n",
       "4769                      1.838014                     -0.694157   \n",
       "4343                     -0.038827                     -0.488919   \n",
       "7265                     -0.614199                     -0.454713   \n",
       "\n",
       "      X_test_num.compression_ratio  X_test_num.embed_ratio  \\\n",
       "558                      -0.247865                0.251504   \n",
       "5858                     -0.210773                0.251504   \n",
       "4769                     -0.203771                0.251504   \n",
       "4343                     -0.222692                0.251504   \n",
       "7265                      4.766837               -3.923825   \n",
       "\n",
       "      X_test_num.frameTagRatio  X_test_num.html_ratio  \\\n",
       "558                  -0.125996               0.196990   \n",
       "5858                 -0.689039              -0.077453   \n",
       "4769                  0.599690               0.662527   \n",
       "4343                 -0.492587              -0.255985   \n",
       "7265                  0.350379               0.063828   \n",
       "\n",
       "                                    ...                                  \\\n",
       "558                                 ...                                   \n",
       "5858                                ...                                   \n",
       "4769                                ...                                   \n",
       "4343                                ...                                   \n",
       "7265                                ...                                   \n",
       "\n",
       "      X_test_num.non_markup_alphanum_characters:X_test_num.numberOfLinks  \\\n",
       "558                                            0.070981                    \n",
       "5858                                           0.057422                    \n",
       "4769                                           0.755626                    \n",
       "4343                                          -0.054800                    \n",
       "7265                                           0.025279                    \n",
       "\n",
       "      X_test_num.non_markup_alphanum_characters:X_test_num.numwords_in_url  \\\n",
       "558                                            0.661567                      \n",
       "5858                                          -0.677724                      \n",
       "4769                                           0.683663                      \n",
       "4343                                          -0.080973                      \n",
       "7265                                           0.039804                      \n",
       "\n",
       "      X_test_num.non_markup_alphanum_characters:X_test_num.parametrizedLinkRatio  \\\n",
       "558                                           -0.070895                            \n",
       "5858                                           0.947644                            \n",
       "4769                                          -2.344889                            \n",
       "4343                                           0.059137                            \n",
       "7265                                           0.018417                            \n",
       "\n",
       "      X_test_num.non_markup_alphanum_characters:X_test_num.spelling_errors_ratio  \\\n",
       "558                                            0.068422                            \n",
       "5858                                          -0.307305                            \n",
       "4769                                           1.176477                            \n",
       "4343                                          -0.018621                            \n",
       "7265                                          -0.159949                            \n",
       "\n",
       "      X_test_num.numberOfLinks:X_test_num.numwords_in_url  \\\n",
       "558                                            0.484566     \n",
       "5858                                          -0.033546     \n",
       "4769                                           0.966802     \n",
       "4343                                           0.549394     \n",
       "7265                                           0.251449     \n",
       "\n",
       "      X_test_num.numberOfLinks:X_test_num.parametrizedLinkRatio  \\\n",
       "558                                           -0.051927           \n",
       "5858                                           0.046906           \n",
       "4769                                          -3.316026           \n",
       "4343                                          -0.401237           \n",
       "7265                                           0.116343           \n",
       "\n",
       "      X_test_num.numberOfLinks:X_test_num.spelling_errors_ratio  \\\n",
       "558                                            0.050116           \n",
       "5858                                          -0.015211           \n",
       "4769                                           1.663715           \n",
       "4343                                           0.126344           \n",
       "7265                                          -1.010420           \n",
       "\n",
       "      X_test_num.numwords_in_url:X_test_num.parametrizedLinkRatio  \\\n",
       "558                                           -0.483980             \n",
       "5858                                          -0.553612             \n",
       "4769                                          -3.000222             \n",
       "4343                                          -0.592865             \n",
       "7265                                           0.183192             \n",
       "\n",
       "      X_test_num.numwords_in_url:X_test_num.spelling_errors_ratio  \\\n",
       "558                                            0.467097             \n",
       "5858                                           0.179527             \n",
       "4769                                           1.505270             \n",
       "4343                                           0.186685             \n",
       "7265                                          -1.590985             \n",
       "\n",
       "      X_test_num.parametrizedLinkRatio:X_test_num.spelling_errors_ratio  \n",
       "558                                           -0.050055                  \n",
       "5858                                          -0.251028                  \n",
       "4769                                          -5.162912                  \n",
       "4343                                          -0.136342                  \n",
       "7265                                          -0.736137                  \n",
       "\n",
       "[5 rows x 171 columns]"
      ]
     },
     "execution_count": 31,
     "metadata": {},
     "output_type": "execute_result"
    }
   ],
   "source": [
    "#So now we're testing two-way interactions. This is interesting because we're now stepping beyond basic interactions of variables to the target.\n",
    "\n",
    "#Some will likely be spurious, but some will likely be predictive. \n",
    "#Think about it this way: Pairing a master's degree with occupation might be much more predictive of lifetime earnings than a master's degree on its own.\n",
    "\n",
    "#Step 1: Importing patsy\n",
    "\n",
    "import patsy\n",
    "\n",
    "#Step 2: setting up the two way interactions\n",
    "##A: What are my numeric columns?\n",
    "print numerical_cols #Just verifying...\n",
    "\n",
    "#B: Extracting numerical only data from X_train and X_test.\n",
    "X_train_num = X_train[numerical_cols]\n",
    "X_test_num = X_test[numerical_cols]\n",
    "\n",
    "\n",
    "#C: Setting up formula - training data\n",
    "formula_interactions = '(X_train_num.alchemy_category_score + X_train_num.avglinksize + X_train_num.commonlinkratio_1 + X_train_num.commonlinkratio_2 + X_train_num.commonlinkratio_3 + X_train_num.commonlinkratio_4 + X_train_num.compression_ratio + X_train_num.embed_ratio + X_train_num.frameTagRatio + X_train_num.html_ratio + X_train_num.image_ratio + X_train_num.lengthyLinkDomain + X_train_num.linkwordscore + X_train_num.non_markup_alphanum_characters + X_train_num.numberOfLinks + X_train_num.numwords_in_url + X_train_num.parametrizedLinkRatio + X_train_num.spelling_errors_ratio)**2 -1'\n",
    "X_interactions_train = patsy.dmatrix(formula_interactions, data = X_train_num, return_type = 'dataframe')\n",
    "\n",
    "# Formula for testing data\n",
    "formula_interactions = '(X_test_num.alchemy_category_score + X_test_num.avglinksize + X_test_num.commonlinkratio_1 + X_test_num.commonlinkratio_2 + X_test_num.commonlinkratio_3 + X_test_num.commonlinkratio_4 + X_test_num.compression_ratio + X_test_num.embed_ratio + X_test_num.frameTagRatio + X_test_num.html_ratio + X_test_num.image_ratio + X_test_num.lengthyLinkDomain + X_test_num.linkwordscore + X_test_num.non_markup_alphanum_characters + X_test_num.numberOfLinks + X_test_num.numwords_in_url + X_test_num.parametrizedLinkRatio + X_test_num.spelling_errors_ratio)**2 -1'\n",
    "X_interactions_test = patsy.dmatrix(formula_interactions, data = X_test_num, return_type = 'dataframe')\n",
    "X_interactions_test.dtypes #column names intact.\n",
    "X_interactions_test.head()"
   ]
  },
  {
   "cell_type": "code",
   "execution_count": 32,
   "metadata": {
    "collapsed": false
   },
   "outputs": [
    {
     "name": "stdout",
     "output_type": "stream",
     "text": [
      "(4042, 171)\n",
      "(1011, 171)\n"
     ]
    }
   ],
   "source": [
    "print X_interactions_train.shape\n",
    "print X_interactions_test.shape"
   ]
  },
  {
   "cell_type": "markdown",
   "metadata": {},
   "source": [
    "### 7.3 Normalize the predictor matrix columns\n",
    "\n",
    "---"
   ]
  },
  {
   "cell_type": "code",
   "execution_count": 34,
   "metadata": {
    "collapsed": false
   },
   "outputs": [],
   "source": [
    "#Going to use StandardScaler on the predictor matrix columns....\n",
    "X_interactions_train_norm = StandardScaler().fit_transform(X_interactions_train)\n",
    "X_interactions_test_norm = StandardScaler().fit_transform(X_interactions_test)"
   ]
  },
  {
   "cell_type": "markdown",
   "metadata": {},
   "source": [
    "### 7.4 Gridsearch a logistic regression to predict accuracy on your new target from the interaction predictors\n",
    "\n",
    "Include Ridge and Lasso.\n",
    "\n",
    "---"
   ]
  },
  {
   "cell_type": "code",
   "execution_count": 35,
   "metadata": {
    "collapsed": false
   },
   "outputs": [
    {
     "name": "stdout",
     "output_type": "stream",
     "text": [
      "The mean CV score is: 0.819348324621\n",
      "\n",
      "The best C for L2 penalty Logistic Regression is: [ 0.00599484]\n",
      "\n",
      "The accuracy score for the L2 Log Reg CV is: 0.825914935707\n"
     ]
    }
   ],
   "source": [
    "#Executing an L2 penalty (Ridge) Logistic Regression with Cross Validation and built in grid searching. Random state is 31.\n",
    "\n",
    "logreg_ridge = LogisticRegressionCV(Cs = [0.01,0.02,0.03,0.05,0.1,0.2,0.3,0.5,1.0, \n",
    "                                      1.00000000e-04, 7.74263683e-04, 5.99484250e-03, 4.64158883e-02, \n",
    "                                      3.59381366e-01, 2.78255940e+00, 2.15443469e+01, 1.66810054e+02,\n",
    "                                      1.29154967e+03, 1.00000000e+04], penalty = 'l2', cv = 10, random_state = 31)\n",
    "\n",
    "logreg_ridge.fit(X_interactions_train_norm, y_business_train)\n",
    "print 'The mean CV score is:', np.mean(logreg_ridge.scores_.values())\n",
    "print \"\"\n",
    "print \"The best C for L2 penalty Logistic Regression is:\", logreg_ridge.C_\n",
    "print \"\"\n",
    "\n",
    "#Let's predict the y's.\n",
    "y_business_pred_ridge = logreg_ridge.predict(X_interactions_test_norm)\n",
    "print \"The accuracy score for the L2 Log Reg CV is:\", accuracy_score(y_business_test, y_business_pred_ridge)\n"
   ]
  },
  {
   "cell_type": "code",
   "execution_count": 37,
   "metadata": {
    "collapsed": false
   },
   "outputs": [
    {
     "name": "stdout",
     "output_type": "stream",
     "text": [
      "The mean CV score is: 0.823285805972\n",
      "\n",
      "The best C for L2 penalty Logistic Regression is: [ 0.005]\n",
      "\n",
      "The accuracy score for the L2 Log Reg CV is: 0.826904055391\n"
     ]
    }
   ],
   "source": [
    "#Executing an L1 penalty (Lasso) Logistic Regression with Cross Validation and built in grid searching. Random state is 31.\n",
    "\n",
    "logreg_lasso = LogisticRegressionCV(Cs = [0.005,0.01, 0.02,0.1,0.3, 0.5,1.0], penalty = 'l1', solver = 'liblinear', cv = 10, random_state = 31)\n",
    "\n",
    "logreg_lasso.fit(X_interactions_train_norm, y_business_train)\n",
    "print 'The mean CV score is:', np.mean(logreg_lasso.scores_.values())\n",
    "print \"\"\n",
    "print \"The best C for L2 penalty Logistic Regression is:\", logreg_lasso.C_\n",
    "print \"\"\n",
    "\n",
    "#Let's predict the y's.\n",
    "y_business_pred_lasso = logreg_lasso.predict(X_interactions_test_norm)\n",
    "print \"The accuracy score for the L2 Log Reg CV is:\", accuracy_score(y_business_test, y_business_pred_lasso)\n"
   ]
  },
  {
   "cell_type": "markdown",
   "metadata": {},
   "source": [
    "### 7.5 Build a logistic regression with the optimal parameters, and look at the coefficients\n",
    "\n",
    "---"
   ]
  },
  {
   "cell_type": "code",
   "execution_count": 39,
   "metadata": {
    "collapsed": false
   },
   "outputs": [
    {
     "name": "stdout",
     "output_type": "stream",
     "text": [
      "The best C for Lasso is:\n",
      "{'C': 0.005}\n",
      "The best score for Lasso with that C was:\n",
      "0.825581395349\n",
      "LogisticRegression(C=0.005, class_weight=None, dual=False, fit_intercept=True,\n",
      "          intercept_scaling=1, max_iter=100, multi_class='ovr', n_jobs=1,\n",
      "          penalty='l1', random_state=31, solver='liblinear', tol=0.0001,\n",
      "          verbose=0, warm_start=False)\n"
     ]
    }
   ],
   "source": [
    "#Just using the whole training set.\n",
    "from sklearn.grid_search import GridSearchCV\n",
    "\n",
    "from sklearn.linear_model import LogisticRegression\n",
    "\n",
    "logreg_lasso = LogisticRegression(penalty = 'l1', solver = 'liblinear', random_state = 31)\n",
    "\n",
    "logreg_lasso_grid = GridSearchCV(logreg_lasso,\n",
    "                   param_grid = {\"C\":[0.005,1]}, cv = 10) #just using this...\n",
    "\n",
    "logreg_lasso_grid.fit(X_interactions_train_norm, y_business_train)\n",
    "print \"The best C for Lasso is:\"\n",
    "print logreg_lasso_grid.best_params_\n",
    "print \"The best score for Lasso with that C was:\"\n",
    "print logreg_lasso_grid.best_score_\n",
    "print logreg_lasso_grid.best_estimator_\n"
   ]
  },
  {
   "cell_type": "code",
   "execution_count": 45,
   "metadata": {
    "collapsed": false
   },
   "outputs": [
    {
     "name": "stdout",
     "output_type": "stream",
     "text": [
      "Score for fit for Lasso is: 0.825581395349\n",
      "\n",
      "Accuracy Score is: 0.826904055391\n"
     ]
    },
    {
     "data": {
      "text/html": [
       "<div>\n",
       "<table border=\"1\" class=\"dataframe\">\n",
       "  <thead>\n",
       "    <tr style=\"text-align: right;\">\n",
       "      <th></th>\n",
       "      <th>X_train_num.alchemy_category_score</th>\n",
       "      <th>X_train_num.avglinksize</th>\n",
       "      <th>X_train_num.commonlinkratio_1</th>\n",
       "      <th>X_train_num.commonlinkratio_2</th>\n",
       "      <th>X_train_num.commonlinkratio_3</th>\n",
       "      <th>X_train_num.commonlinkratio_4</th>\n",
       "      <th>X_train_num.compression_ratio</th>\n",
       "      <th>X_train_num.embed_ratio</th>\n",
       "      <th>X_train_num.frameTagRatio</th>\n",
       "      <th>X_train_num.html_ratio</th>\n",
       "      <th>...</th>\n",
       "      <th>X_train_num.non_markup_alphanum_characters:X_train_num.numberOfLinks</th>\n",
       "      <th>X_train_num.non_markup_alphanum_characters:X_train_num.numwords_in_url</th>\n",
       "      <th>X_train_num.non_markup_alphanum_characters:X_train_num.parametrizedLinkRatio</th>\n",
       "      <th>X_train_num.non_markup_alphanum_characters:X_train_num.spelling_errors_ratio</th>\n",
       "      <th>X_train_num.numberOfLinks:X_train_num.numwords_in_url</th>\n",
       "      <th>X_train_num.numberOfLinks:X_train_num.parametrizedLinkRatio</th>\n",
       "      <th>X_train_num.numberOfLinks:X_train_num.spelling_errors_ratio</th>\n",
       "      <th>X_train_num.numwords_in_url:X_train_num.parametrizedLinkRatio</th>\n",
       "      <th>X_train_num.numwords_in_url:X_train_num.spelling_errors_ratio</th>\n",
       "      <th>X_train_num.parametrizedLinkRatio:X_train_num.spelling_errors_ratio</th>\n",
       "    </tr>\n",
       "  </thead>\n",
       "  <tbody>\n",
       "    <tr>\n",
       "      <th>0</th>\n",
       "      <td>0.0</td>\n",
       "      <td>0.0</td>\n",
       "      <td>0.0</td>\n",
       "      <td>0.0</td>\n",
       "      <td>0.0</td>\n",
       "      <td>0.0</td>\n",
       "      <td>0.0</td>\n",
       "      <td>0.0</td>\n",
       "      <td>0.0</td>\n",
       "      <td>0.0</td>\n",
       "      <td>...</td>\n",
       "      <td>0.0</td>\n",
       "      <td>0.0</td>\n",
       "      <td>0.0</td>\n",
       "      <td>0.0</td>\n",
       "      <td>0.0</td>\n",
       "      <td>0.0</td>\n",
       "      <td>0.0</td>\n",
       "      <td>0.0</td>\n",
       "      <td>0.0</td>\n",
       "      <td>0.0</td>\n",
       "    </tr>\n",
       "  </tbody>\n",
       "</table>\n",
       "<p>1 rows × 171 columns</p>\n",
       "</div>"
      ],
      "text/plain": [
       "   X_train_num.alchemy_category_score  X_train_num.avglinksize  \\\n",
       "0                                 0.0                      0.0   \n",
       "\n",
       "   X_train_num.commonlinkratio_1  X_train_num.commonlinkratio_2  \\\n",
       "0                            0.0                            0.0   \n",
       "\n",
       "   X_train_num.commonlinkratio_3  X_train_num.commonlinkratio_4  \\\n",
       "0                            0.0                            0.0   \n",
       "\n",
       "   X_train_num.compression_ratio  X_train_num.embed_ratio  \\\n",
       "0                            0.0                      0.0   \n",
       "\n",
       "   X_train_num.frameTagRatio  X_train_num.html_ratio  \\\n",
       "0                        0.0                     0.0   \n",
       "\n",
       "                                  ...                                   \\\n",
       "0                                 ...                                    \n",
       "\n",
       "   X_train_num.non_markup_alphanum_characters:X_train_num.numberOfLinks  \\\n",
       "0                                                0.0                      \n",
       "\n",
       "   X_train_num.non_markup_alphanum_characters:X_train_num.numwords_in_url  \\\n",
       "0                                                0.0                        \n",
       "\n",
       "   X_train_num.non_markup_alphanum_characters:X_train_num.parametrizedLinkRatio  \\\n",
       "0                                                0.0                              \n",
       "\n",
       "   X_train_num.non_markup_alphanum_characters:X_train_num.spelling_errors_ratio  \\\n",
       "0                                                0.0                              \n",
       "\n",
       "   X_train_num.numberOfLinks:X_train_num.numwords_in_url  \\\n",
       "0                                                0.0       \n",
       "\n",
       "   X_train_num.numberOfLinks:X_train_num.parametrizedLinkRatio  \\\n",
       "0                                                0.0             \n",
       "\n",
       "   X_train_num.numberOfLinks:X_train_num.spelling_errors_ratio  \\\n",
       "0                                                0.0             \n",
       "\n",
       "   X_train_num.numwords_in_url:X_train_num.parametrizedLinkRatio  \\\n",
       "0                                                0.0               \n",
       "\n",
       "   X_train_num.numwords_in_url:X_train_num.spelling_errors_ratio  \\\n",
       "0                                                0.0               \n",
       "\n",
       "   X_train_num.parametrizedLinkRatio:X_train_num.spelling_errors_ratio  \n",
       "0                                                0.0                    \n",
       "\n",
       "[1 rows x 171 columns]"
      ]
     },
     "execution_count": 45,
     "metadata": {},
     "output_type": "execute_result"
    }
   ],
   "source": [
    "\n",
    "\n",
    "#Now that we have the best estimator, let's get the coefficients for predicting alchemy_category = business...\n",
    "logreg_lasso_best = logreg_lasso_grid.best_estimator_\n",
    "logreg_lasso_best.fit(X_interactions_train_norm, y_business_train)\n",
    "y_pred_lasso = logreg_lasso_best.predict(X_interactions_test_norm)\n",
    "\n",
    "print \"Score for fit for Lasso is:\", logreg_lasso_best.score(X_interactions_train_norm, y_business_train)\n",
    "print \"\"\n",
    "print \"Accuracy Score is:\", accuracy_score(y_business_test, y_pred_lasso)\n",
    "\n",
    "coefficients_lasso_final = pd.DataFrame(logreg_lasso_best.coef_, columns = X_interactions_train.columns)\n",
    "coefficients_lasso_final\n",
    "\n"
   ]
  },
  {
   "cell_type": "code",
   "execution_count": 46,
   "metadata": {
    "collapsed": false
   },
   "outputs": [
    {
     "data": {
      "text/plain": [
       "()"
      ]
     },
     "execution_count": 46,
     "metadata": {},
     "output_type": "execute_result"
    }
   ],
   "source": [
    "#What are the columns that are not null in the Lasso?\n",
    "coeffs_not_null = ()\n",
    "for i in coefficients_lasso_final.columns:\n",
    "    if coefficients_lasso_final[i].loc[0] != 0:\n",
    "        coeffs_not_null.append(i)\n",
    "\n",
    "coeffs_not_null"
   ]
  },
  {
   "cell_type": "code",
   "execution_count": 48,
   "metadata": {
    "collapsed": false
   },
   "outputs": [
    {
     "name": "stdout",
     "output_type": "stream",
     "text": [
      "The best C for Ridge is:\n",
      "{'C': 0.000774263683}\n",
      "The best score for Ridge with that C was:\n",
      "0.823849579416\n",
      "LogisticRegression(C=0.000774263683, class_weight=None, dual=False,\n",
      "          fit_intercept=True, intercept_scaling=1, max_iter=100,\n",
      "          multi_class='ovr', n_jobs=1, penalty='l2', random_state=31,\n",
      "          solver='liblinear', tol=0.0001, verbose=0, warm_start=False)\n"
     ]
    }
   ],
   "source": [
    "#Just using the whole training set for a Ridge Regression.\n",
    "from sklearn.grid_search import GridSearchCV\n",
    "\n",
    "from sklearn.linear_model import LogisticRegression\n",
    "\n",
    "logreg_ridge = LogisticRegression(penalty = 'l2', random_state = 31)\n",
    "\n",
    "logreg_ridge_grid = GridSearchCV(logreg_ridge,\n",
    "                   param_grid = {\"C\":[0.01,0.02,0.03,0.05,0.1,0.2,0.3,0.5,1.0, \n",
    "                                      1.00000000e-04, 7.74263683e-04, 5.99484250e-03, 4.64158883e-02, \n",
    "                                      3.59381366e-01, 2.78255940e+00, 2.15443469e+01, 1.66810054e+02,\n",
    "                                      1.29154967e+03, 1.00000000e+04]}, cv = 10) #just using this...\n",
    "\n",
    "logreg_ridge_grid.fit(X_interactions_train_norm, y_business_train)\n",
    "print \"The best C for Ridge is:\"\n",
    "print logreg_ridge_grid.best_params_\n",
    "print \"The best score for Ridge with that C was:\"\n",
    "print logreg_ridge_grid.best_score_\n",
    "print logreg_ridge_grid.best_estimator_\n"
   ]
  },
  {
   "cell_type": "code",
   "execution_count": 49,
   "metadata": {
    "collapsed": false
   },
   "outputs": [
    {
     "name": "stdout",
     "output_type": "stream",
     "text": [
      "Score for fit for Ridge is: 0.826076199901\n",
      "\n",
      "Accuracy Score is: 0.825914935707\n"
     ]
    },
    {
     "data": {
      "text/html": [
       "<div>\n",
       "<table border=\"1\" class=\"dataframe\">\n",
       "  <thead>\n",
       "    <tr style=\"text-align: right;\">\n",
       "      <th></th>\n",
       "      <th>X_train_num.alchemy_category_score</th>\n",
       "      <th>X_train_num.avglinksize</th>\n",
       "      <th>X_train_num.commonlinkratio_1</th>\n",
       "      <th>X_train_num.commonlinkratio_2</th>\n",
       "      <th>X_train_num.commonlinkratio_3</th>\n",
       "      <th>X_train_num.commonlinkratio_4</th>\n",
       "      <th>X_train_num.compression_ratio</th>\n",
       "      <th>X_train_num.embed_ratio</th>\n",
       "      <th>X_train_num.frameTagRatio</th>\n",
       "      <th>X_train_num.html_ratio</th>\n",
       "      <th>...</th>\n",
       "      <th>X_train_num.non_markup_alphanum_characters:X_train_num.numberOfLinks</th>\n",
       "      <th>X_train_num.non_markup_alphanum_characters:X_train_num.numwords_in_url</th>\n",
       "      <th>X_train_num.non_markup_alphanum_characters:X_train_num.parametrizedLinkRatio</th>\n",
       "      <th>X_train_num.non_markup_alphanum_characters:X_train_num.spelling_errors_ratio</th>\n",
       "      <th>X_train_num.numberOfLinks:X_train_num.numwords_in_url</th>\n",
       "      <th>X_train_num.numberOfLinks:X_train_num.parametrizedLinkRatio</th>\n",
       "      <th>X_train_num.numberOfLinks:X_train_num.spelling_errors_ratio</th>\n",
       "      <th>X_train_num.numwords_in_url:X_train_num.parametrizedLinkRatio</th>\n",
       "      <th>X_train_num.numwords_in_url:X_train_num.spelling_errors_ratio</th>\n",
       "      <th>X_train_num.parametrizedLinkRatio:X_train_num.spelling_errors_ratio</th>\n",
       "    </tr>\n",
       "  </thead>\n",
       "  <tbody>\n",
       "    <tr>\n",
       "      <th>0</th>\n",
       "      <td>0.0</td>\n",
       "      <td>0.0</td>\n",
       "      <td>0.0</td>\n",
       "      <td>0.0</td>\n",
       "      <td>0.0</td>\n",
       "      <td>0.0</td>\n",
       "      <td>0.0</td>\n",
       "      <td>0.0</td>\n",
       "      <td>0.0</td>\n",
       "      <td>0.0</td>\n",
       "      <td>...</td>\n",
       "      <td>0.0</td>\n",
       "      <td>0.0</td>\n",
       "      <td>0.0</td>\n",
       "      <td>0.0</td>\n",
       "      <td>0.0</td>\n",
       "      <td>0.0</td>\n",
       "      <td>0.0</td>\n",
       "      <td>0.0</td>\n",
       "      <td>0.0</td>\n",
       "      <td>0.0</td>\n",
       "    </tr>\n",
       "  </tbody>\n",
       "</table>\n",
       "<p>1 rows × 171 columns</p>\n",
       "</div>"
      ],
      "text/plain": [
       "   X_train_num.alchemy_category_score  X_train_num.avglinksize  \\\n",
       "0                                 0.0                      0.0   \n",
       "\n",
       "   X_train_num.commonlinkratio_1  X_train_num.commonlinkratio_2  \\\n",
       "0                            0.0                            0.0   \n",
       "\n",
       "   X_train_num.commonlinkratio_3  X_train_num.commonlinkratio_4  \\\n",
       "0                            0.0                            0.0   \n",
       "\n",
       "   X_train_num.compression_ratio  X_train_num.embed_ratio  \\\n",
       "0                            0.0                      0.0   \n",
       "\n",
       "   X_train_num.frameTagRatio  X_train_num.html_ratio  \\\n",
       "0                        0.0                     0.0   \n",
       "\n",
       "                                  ...                                   \\\n",
       "0                                 ...                                    \n",
       "\n",
       "   X_train_num.non_markup_alphanum_characters:X_train_num.numberOfLinks  \\\n",
       "0                                                0.0                      \n",
       "\n",
       "   X_train_num.non_markup_alphanum_characters:X_train_num.numwords_in_url  \\\n",
       "0                                                0.0                        \n",
       "\n",
       "   X_train_num.non_markup_alphanum_characters:X_train_num.parametrizedLinkRatio  \\\n",
       "0                                                0.0                              \n",
       "\n",
       "   X_train_num.non_markup_alphanum_characters:X_train_num.spelling_errors_ratio  \\\n",
       "0                                                0.0                              \n",
       "\n",
       "   X_train_num.numberOfLinks:X_train_num.numwords_in_url  \\\n",
       "0                                                0.0       \n",
       "\n",
       "   X_train_num.numberOfLinks:X_train_num.parametrizedLinkRatio  \\\n",
       "0                                                0.0             \n",
       "\n",
       "   X_train_num.numberOfLinks:X_train_num.spelling_errors_ratio  \\\n",
       "0                                                0.0             \n",
       "\n",
       "   X_train_num.numwords_in_url:X_train_num.parametrizedLinkRatio  \\\n",
       "0                                                0.0               \n",
       "\n",
       "   X_train_num.numwords_in_url:X_train_num.spelling_errors_ratio  \\\n",
       "0                                                0.0               \n",
       "\n",
       "   X_train_num.parametrizedLinkRatio:X_train_num.spelling_errors_ratio  \n",
       "0                                                0.0                    \n",
       "\n",
       "[1 rows x 171 columns]"
      ]
     },
     "execution_count": 49,
     "metadata": {},
     "output_type": "execute_result"
    }
   ],
   "source": [
    "\n",
    "#Now that we have the best estimator, let's get the coefficients for predicting alchemy_category = business...\n",
    "logreg_ridge_best = logreg_ridge_grid.best_estimator_\n",
    "logreg_ridge_best.fit(X_interactions_train_norm, y_business_train)\n",
    "y_pred_ridge = logreg_ridge_best.predict(X_interactions_test_norm)\n",
    "\n",
    "print \"Score for fit for Ridge is:\", logreg_ridge_best.score(X_interactions_train_norm, y_business_train)\n",
    "print \"\"\n",
    "print \"Accuracy Score is:\", accuracy_score(y_business_test, y_pred_ridge)\n",
    "\n",
    "coefficients_ridge_final = pd.DataFrame(logreg_lasso_best.coef_, columns = X_interactions_train.columns)\n",
    "coefficients_ridge_final"
   ]
  },
  {
   "cell_type": "code",
   "execution_count": 50,
   "metadata": {
    "collapsed": false
   },
   "outputs": [
    {
     "data": {
      "text/plain": [
       "()"
      ]
     },
     "execution_count": 50,
     "metadata": {},
     "output_type": "execute_result"
    }
   ],
   "source": [
    "#What are the columns that are not null in the Ridge?\n",
    "coeffs_not_null_r = ()\n",
    "for i in coefficients_ridge_final.columns:\n",
    "    if coefficients_ridge_final[i].loc[0] != 0:\n",
    "        coeffs_not_null_r.append(i)\n",
    "\n",
    "coeffs_not_null_r"
   ]
  },
  {
   "cell_type": "markdown",
   "metadata": {},
   "source": [
    "### Concluding Thoughts on Predicting Alchemy Category = Business.\n",
    "\n",
    "So 17% or so of the data is in Alchemy Category = Business. So that or its inverse is the baseline.\n",
    "\n",
    "Looking above, my predictors do not beat it. In fact, hilariously, a Lasso Logistic Regression (L1 penalty) and L2 Logistic Regression, at least for me, results in all coefficients being zero, implying that the baseline of just assuming it always is NOT business is as if not more accurate.\n",
    "\n"
   ]
  },
  {
   "cell_type": "markdown",
   "metadata": {},
   "source": [
    "### 7.6 Gridsearch parameters for a logistic regression with the same target and predictors, but score based on precision rather than accuracy\n",
    "\n",
    "Look at the documentation.\n",
    "\n",
    "---"
   ]
  },
  {
   "cell_type": "code",
   "execution_count": null,
   "metadata": {
    "collapsed": true
   },
   "outputs": [],
   "source": [
    "#Scoring on precision...\n",
    "from sklearn.grid_search import GridSearchCV\n",
    "\n",
    "from sklearn.linear_model import LogisticRegression\n",
    "\n",
    "logreg_ridge = LogisticRegression(penalty = 'l2', solver = 'liblinear', random_state = 31)\n",
    "\n",
    "logreg_ridge_grid_precision = GridSearchCV(logreg_ridge,\n",
    "                   param_grid = {\"C\":[0.01,0.02,0.03,0.05,0.1,0.2,0.3,0.5,1.0]}, scoring = 'precision', cv = 10) #just using this...\n",
    "\n",
    "logreg_ridge_grid_precision.fit(X_interactions_train_norm, y_business_train)\n",
    "print \"The best C for Ridge is:\"\n",
    "print logreg_ridge_grid_precision.best_params_\n",
    "print \"The best score for Ridge with that C was:\"\n",
    "print logreg_ridge_grid_precision.best_score_\n",
    "print logreg_ridge_grid_precision.best_estimator_"
   ]
  },
  {
   "cell_type": "markdown",
   "metadata": {},
   "source": [
    "## [BONUS] 8. Build models predicting from words\n",
    "\n",
    "This is a bit of the NLP we covered in the pipeline lecture!\n",
    "\n",
    "---"
   ]
  },
  {
   "cell_type": "markdown",
   "metadata": {},
   "source": [
    "### 8.1 Choose 'body' or 'title' from the boilerplate to be the basis of your word predictors\n",
    "\n",
    "You will need to parse the json from the boilerplate field.\n",
    "\n",
    "---"
   ]
  },
  {
   "cell_type": "code",
   "execution_count": null,
   "metadata": {
    "collapsed": true
   },
   "outputs": [],
   "source": [
    "import json"
   ]
  },
  {
   "cell_type": "markdown",
   "metadata": {},
   "source": [
    "### 8.2 Use CountVectorizer to create your predictor matrix from the string column\n",
    "\n",
    "It is up to you what range of ngrams and features, and whether or not you want the columns binary or counts.\n",
    "\n",
    "---"
   ]
  },
  {
   "cell_type": "code",
   "execution_count": null,
   "metadata": {
    "collapsed": true
   },
   "outputs": [],
   "source": []
  },
  {
   "cell_type": "markdown",
   "metadata": {},
   "source": [
    "### 8.3 Gridsearch a logistic regression predicting accuracy of your chosen target category from word predictor matrix\n",
    "\n",
    "---"
   ]
  },
  {
   "cell_type": "code",
   "execution_count": null,
   "metadata": {
    "collapsed": true
   },
   "outputs": [],
   "source": []
  },
  {
   "cell_type": "markdown",
   "metadata": {},
   "source": [
    "### 8.4 Do the same as above, but score the gridsearch based on precision rather than accuracy\n",
    "\n",
    "---"
   ]
  },
  {
   "cell_type": "code",
   "execution_count": null,
   "metadata": {
    "collapsed": true
   },
   "outputs": [],
   "source": []
  },
  {
   "cell_type": "markdown",
   "metadata": {},
   "source": [
    "### 8.5 Build a logistic regression with optimal precision categories\n",
    "\n",
    "Print out the top 20 or 25 word features as ranked by their coefficients.\n",
    "\n",
    "---"
   ]
  },
  {
   "cell_type": "code",
   "execution_count": null,
   "metadata": {
    "collapsed": true
   },
   "outputs": [],
   "source": []
  }
 ],
 "metadata": {
  "kernelspec": {
   "display_name": "Python 2",
   "language": "python",
   "name": "python2"
  },
  "language_info": {
   "codemirror_mode": {
    "name": "ipython",
    "version": 2
   },
   "file_extension": ".py",
   "mimetype": "text/x-python",
   "name": "python",
   "nbconvert_exporter": "python",
   "pygments_lexer": "ipython2",
   "version": "2.7.11"
  }
 },
 "nbformat": 4,
 "nbformat_minor": 0
}
